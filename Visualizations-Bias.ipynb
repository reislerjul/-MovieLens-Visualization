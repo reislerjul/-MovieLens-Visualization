{
 "cells": [
  {
   "cell_type": "code",
   "execution_count": 21,
   "metadata": {},
   "outputs": [],
   "source": [
    "import numpy as np\n",
    "import matplotlib.pyplot as plt\n",
    "import random"
   ]
  },
  {
   "cell_type": "markdown",
   "metadata": {},
   "source": [
    "## 4 Basic Visualizations"
   ]
  },
  {
   "cell_type": "markdown",
   "metadata": {},
   "source": [
    "Load in each data file:"
   ]
  },
  {
   "cell_type": "code",
   "execution_count": 5,
   "metadata": {},
   "outputs": [],
   "source": [
    "data = np.loadtxt('data/data.txt', skiprows=0, delimiter='\\t', dtype='int')\n",
    "test = np.loadtxt('data/test.txt', skiprows=0, delimiter='\\t', dtype='int')\n",
    "train = np.loadtxt('data/train.txt', skiprows=0, delimiter='\\t', dtype='int')\n",
    "movies = np.loadtxt('data/movies.txt', skiprows=0, delimiter='\\t', dtype='str')"
   ]
  },
  {
   "cell_type": "markdown",
   "metadata": {},
   "source": [
    "### 1"
   ]
  },
  {
   "cell_type": "markdown",
   "metadata": {},
   "source": [
    "Create a histogram of all the ratings in the dataset. First, put all the ratings into a list and then plot. "
   ]
  },
  {
   "cell_type": "code",
   "execution_count": 6,
   "metadata": {},
   "outputs": [
    {
     "data": {
      "image/png": "[encoded data removed]",
      "text/plain": [
       "<matplotlib.figure.Figure at 0x10646de10>"
      ]
     },
     "metadata": {},
     "output_type": "display_data"
    }
   ],
   "source": [
    "ratings = []\n",
    "for element in data:\n",
    "    ratings.append(int(element[2]))\n",
    "\n",
    "plt.hist(ratings, normed=False, histtype='stepfilled', alpha=0.2, label='ratings')\n",
    "plt.title('Ratings')\n",
    "plt.show()"
   ]
  },
  {
   "cell_type": "markdown",
   "metadata": {},
   "source": [
    "### 2"
   ]
  },
  {
   "cell_type": "markdown",
   "metadata": {},
   "source": [
    "First, we will determine the 10 most popular movies. To do this, we will go through the dataset and determine the number of ratings that each movie has received"
   ]
  },
  {
   "cell_type": "code",
   "execution_count": 7,
   "metadata": {},
   "outputs": [],
   "source": [
    "totalRatings = {}\n",
    "for element in data:\n",
    "    if element[1] in totalRatings:\n",
    "        totalRatings[element[1]] += 1\n",
    "    else:\n",
    "        totalRatings[element[1]] = 1"
   ]
  },
  {
   "cell_type": "markdown",
   "metadata": {},
   "source": [
    "Now, convert the dictionary to a list and sort by the number of ratings:"
   ]
  },
  {
   "cell_type": "code",
   "execution_count": 8,
   "metadata": {},
   "outputs": [],
   "source": [
    "ratingList = []\n",
    "\n",
    "for item in totalRatings.items():\n",
    "    ratingList.append(item)\n",
    "    \n",
    "ratingList.sort(key=lambda x: x[1], reverse=True)"
   ]
  },
  {
   "cell_type": "markdown",
   "metadata": {},
   "source": [
    "Print out the 10 most popular movies:"
   ]
  },
  {
   "cell_type": "code",
   "execution_count": 9,
   "metadata": {},
   "outputs": [
    {
     "data": {
      "text/plain": [
       "[(50, 583),\n",
       " (258, 509),\n",
       " (100, 508),\n",
       " (181, 507),\n",
       " (294, 485),\n",
       " (286, 481),\n",
       " (288, 478),\n",
       " (1, 452),\n",
       " (300, 431),\n",
       " (121, 429)]"
      ]
     },
     "execution_count": 9,
     "metadata": {},
     "output_type": "execute_result"
    }
   ],
   "source": [
    "ratingList[:10]"
   ]
  },
  {
   "cell_type": "markdown",
   "metadata": {},
   "source": [
    "Create a dictionary for the ten most popular movies, find all the ratings, and plot as a histogram:"
   ]
  },
  {
   "cell_type": "code",
   "execution_count": 10,
   "metadata": {},
   "outputs": [
    {
     "data": {
      "image/png": "[encoded data removed]",
      "text/plain": [
       "<matplotlib.figure.Figure at 0x111d636a0>"
      ]
     },
     "metadata": {},
     "output_type": "display_data"
    }
   ],
   "source": [
    "popular = {}\n",
    "for item in ratingList[:10]:\n",
    "    popular[item[0]] = True\n",
    "    \n",
    "popularRatings = []\n",
    "for element in data:\n",
    "    if element[1] in popular:\n",
    "        popularRatings.append(int(element[2]))\n",
    "\n",
    "plt.hist(popularRatings, normed=False, histtype='stepfilled', alpha=0.2, label='ratings')\n",
    "plt.title('Ratings of 10 Most Popular Movies')\n",
    "plt.show()"
   ]
  },
  {
   "cell_type": "markdown",
   "metadata": {},
   "source": [
    "### 3"
   ]
  },
  {
   "cell_type": "markdown",
   "metadata": {},
   "source": [
    "Find the average ratings of each movie and sort a list by the best rated:"
   ]
  },
  {
   "cell_type": "code",
   "execution_count": 11,
   "metadata": {},
   "outputs": [],
   "source": [
    "avgRatings = {}\n",
    "for element in data:\n",
    "    if element[1] in avgRatings:\n",
    "        avgRatings[element[1]][0] += int(element[2])\n",
    "        avgRatings[element[1]][1] += 1\n",
    "    else:\n",
    "        avgRatings[element[1]] = [int(element[2]), 1]\n",
    "\n",
    "        \n",
    "avgRatingList = []\n",
    "\n",
    "for key, value in avgRatings.items():\n",
    "    avgRatingList.append((key, value[0] / float(value[1]), value[1]))\n",
    "    \n",
    "avgRatingList.sort(key=lambda x: x[1], reverse=True)"
   ]
  },
  {
   "cell_type": "markdown",
   "metadata": {},
   "source": [
    "Print out the 10 best rated movies:"
   ]
  },
  {
   "cell_type": "code",
   "execution_count": 12,
   "metadata": {},
   "outputs": [
    {
     "data": {
      "text/plain": [
       "[(1189, 5.0, 3),\n",
       " (1500, 5.0, 2),\n",
       " (814, 5.0, 1),\n",
       " (1536, 5.0, 1),\n",
       " (1293, 5.0, 3),\n",
       " (1599, 5.0, 1),\n",
       " (1653, 5.0, 1),\n",
       " (1467, 5.0, 2),\n",
       " (1122, 5.0, 1),\n",
       " (1201, 5.0, 1)]"
      ]
     },
     "execution_count": 12,
     "metadata": {},
     "output_type": "execute_result"
    }
   ],
   "source": [
    "avgRatingList[:10]"
   ]
  },
  {
   "cell_type": "markdown",
   "metadata": {},
   "source": [
    "Create a dictionary for the ten best rated movies, find all the ratings, and plot as a histogram:"
   ]
  },
  {
   "cell_type": "code",
   "execution_count": 13,
   "metadata": {},
   "outputs": [
    {
     "data": {
      "image/png": "[encoded data removed]",
      "text/plain": [
       "<matplotlib.figure.Figure at 0x10fed0eb8>"
      ]
     },
     "metadata": {},
     "output_type": "display_data"
    }
   ],
   "source": [
    "best = {}\n",
    "for item in avgRatingList[:10]:\n",
    "    best[item[0]] = True\n",
    "    \n",
    "bestRatings = []\n",
    "for element in data:\n",
    "    if element[1] in best:\n",
    "        bestRatings.append(int(element[2]))\n",
    "\n",
    "plt.hist(bestRatings, normed=True, histtype='stepfilled', alpha=0.2, label='ratings')\n",
    "plt.title('Ratings of 10 Best Rated Movies')\n",
    "plt.show()"
   ]
  },
  {
   "cell_type": "markdown",
   "metadata": {},
   "source": [
    "### 4"
   ]
  },
  {
   "cell_type": "markdown",
   "metadata": {},
   "source": [
    "We choose to do the genres Comedy, Western, and Romance."
   ]
  },
  {
   "cell_type": "code",
   "execution_count": 14,
   "metadata": {},
   "outputs": [
    {
     "name": "stdout",
     "output_type": "stream",
     "text": [
      "['1' 'Toy Story (1995)' '0' '0' '0' '1' '1' '1' '0' '0' '0' '0' '0' '0'\n",
      " '0' '0' '0' '0' '0' '0' '0']\n"
     ]
    }
   ],
   "source": [
    "print(movies[0])"
   ]
  },
  {
   "cell_type": "markdown",
   "metadata": {},
   "source": [
    "Find all the movies that are comedy, western, and/or romance:"
   ]
  },
  {
   "cell_type": "code",
   "execution_count": 15,
   "metadata": {},
   "outputs": [],
   "source": [
    "genres = {'Comedy':[], 'Western':[], 'Animation':[]}\n",
    "for movie in movies:\n",
    "    if movie[7] == '1':\n",
    "        genres['Comedy'].append(int(movie[0]))\n",
    "    if movie[20] == '1':\n",
    "        genres['Western'].append(int(movie[0]))\n",
    "    if movie[16] == '1':\n",
    "        genres['Animation'].append(int(movie[0]))"
   ]
  },
  {
   "cell_type": "markdown",
   "metadata": {},
   "source": [
    "For the movies in each category, find all the ratings and plot a histogram:"
   ]
  },
  {
   "cell_type": "code",
   "execution_count": 16,
   "metadata": {},
   "outputs": [
    {
     "data": {
      "image/png": "[encoded data removed]",
      "text/plain": [
       "<matplotlib.figure.Figure at 0x10fd31b38>"
      ]
     },
     "metadata": {},
     "output_type": "display_data"
    },
    {
     "data": {
      "image/png": "[encoded data removed]",
      "text/plain": [
       "<matplotlib.figure.Figure at 0x104fc4be0>"
      ]
     },
     "metadata": {},
     "output_type": "display_data"
    },
    {
     "data": {
      "image/png": "[encoded data removed]",
      "text/plain": [
       "<matplotlib.figure.Figure at 0x1103c2860>"
      ]
     },
     "metadata": {},
     "output_type": "display_data"
    }
   ],
   "source": [
    "for genre in genres.keys():\n",
    "    genre_ratings = []\n",
    "    temp = genres[genre]\n",
    "    for element in data:\n",
    "        if element[1] in temp:\n",
    "            genre_ratings.append(int(element[2]))\n",
    "    title = genre + ' Ratings'\n",
    "    plt.hist(genre_ratings, normed=True, histtype='stepfilled', alpha=0.2, label='ratings')\n",
    "    plt.title(title)\n",
    "    plt.show()"
   ]
  },
  {
   "cell_type": "markdown",
   "metadata": {
    "collapsed": true
   },
   "source": [
    "### 5 Matrix Factorization Visualizations"
   ]
  },
  {
   "cell_type": "markdown",
   "metadata": {},
   "source": [
    "### Part 1"
   ]
  },
  {
   "cell_type": "markdown",
   "metadata": {},
   "source": [
    "Below is my code from Homework 5:"
   ]
  },
  {
   "cell_type": "code",
   "execution_count": 72,
   "metadata": {},
   "outputs": [],
   "source": [
    "import numpy as np\n",
    "\n",
    "def grad_U(Ui, Yij, Vj, reg, eta, Ai, Bj):\n",
    "    \"\"\"\n",
    "    Takes as input Ui (the ith row of U), a training point Yij, the column\n",
    "    vector Vj (jth column of V^T), reg (the regularization parameter lambda),\n",
    "    and eta (the learning rate).\n",
    "\n",
    "    Returns the gradient of the regularized loss function with\n",
    "    respect to Ui multiplied by eta.\n",
    "    \"\"\"\n",
    "    return eta * (reg * Ui - Vj * (Yij - np.dot(Ui, Vj) - Ai - Bj))\n",
    "\n",
    "def grad_V(Vj, Yij, Ui, reg, eta, Ai, Bj):\n",
    "    \"\"\"\n",
    "    Takes as input the column vector Vj (jth column of V^T), a training point Yij,\n",
    "    Ui (the ith row of U), reg (the regularization parameter lambda),\n",
    "    and eta (the learning rate).\n",
    "\n",
    "    Returns the gradient of the regularized loss function with\n",
    "    respect to Vj multiplied by eta.\n",
    "    \"\"\"\n",
    "    return eta * (reg * Vj - Ui * (Yij - np.dot(Ui, Vj) - Ai - Bj))\n",
    "                  \n",
    "def grad_AB(Vj, Yij, Ui, reg, eta, Ai, Bj):\n",
    "    \"\"\"\n",
    "    Takes as input the column vector Vj (jth column of V^T), a training point Yij,\n",
    "    Ui (the ith row of U), reg (the regularization parameter lambda),\n",
    "    and eta (the learning rate).\n",
    "\n",
    "    Returns the gradient of the regularized loss function with\n",
    "    respect to Vj multiplied by eta.\n",
    "    \"\"\"\n",
    "    return eta * -(Yij - np.dot(Ui, Vj) - Ai - Bj)\n",
    "\n",
    "def grad_B(Vj, Yij, Ui, reg, eta, Ai, Bj):\n",
    "    \"\"\"\n",
    "    Takes as input the column vector Vj (jth column of V^T), a training point Yij,\n",
    "    Ui (the ith row of U), reg (the regularization parameter lambda),\n",
    "    and eta (the learning rate).\n",
    "\n",
    "    Returns the gradient of the regularized loss function with\n",
    "    respect to Vj multiplied by eta.\n",
    "    \"\"\"\n",
    "    return eta * -(Yij - np.dot(Ui, Vj) - Ai - Bj)\n",
    "\n",
    "def get_err(U, V, Y, A, B, reg=0.0):\n",
    "    \"\"\"\n",
    "    Takes as input a matrix Y of triples (i, j, Y_ij) where i is the index of a user,\n",
    "    j is the index of a movie, and Y_ij is user i's rating of movie j and\n",
    "    user/movie matrices U and V.\n",
    "\n",
    "    Returns the mean regularized squared-error of predictions made by\n",
    "    estimating Y_{ij} as the dot product of the ith row of U and the jth column of V^T.\n",
    "    \"\"\"\n",
    "    err = 0.0\n",
    "    for i in range(len(Y)):\n",
    "        est = np.dot(U[Y[i][0] - 1], np.transpose(V[Y[i][1] - 1]))\n",
    "        err += .5 * (Y[i][2] - est - A[Y[i][0] - 1] - B[Y[i][1] - 1]) ** 2\n",
    "\n",
    "    err += reg / 2 * (np.linalg.norm(U) ** 2 + np.linalg.norm(V) ** 2)\n",
    "    return err / len(Y)\n",
    "\n",
    "def train_model(M, N, K, eta, reg, Y,  A, B, eps=0.0001, max_epochs=300):\n",
    "    \"\"\"\n",
    "    Given a training data matrix Y containing rows (i, j, Y_ij)\n",
    "    where Y_ij is user i's rating on movie j, learns an\n",
    "    M x K matrix U and N x K matrix V such that rating Y_ij is approximated\n",
    "    by (UV^T)_ij.\n",
    "\n",
    "    Uses a learning rate of <eta> and regularization of <reg>. Stops after\n",
    "    <max_epochs> epochs, or once the magnitude of the decrease in regularized\n",
    "    MSE between epochs is smaller than a fraction <eps> of the decrease in\n",
    "    MSE after the first epoch.\n",
    "\n",
    "    Returns a tuple (U, V, err) consisting of U, V, and the unregularized MSE\n",
    "    of the model.\n",
    "    \"\"\"\n",
    "    U = np.zeros((M, K))\n",
    "    V = np.zeros((N, K))\n",
    "    # initialize a & b to zero\n",
    "\n",
    "    for j in range(K):\n",
    "        for i in range(M):\n",
    "            U[i][j] = random.uniform(-0.5, 0.5)\n",
    "        for h in range(N):\n",
    "            V[h][j] = random.uniform(-0.5, 0.5)\n",
    "    # print(A[Y[0][0] - 1])\n",
    "    # print(V)\n",
    "    err = get_err(U, V, Y, A, B, reg)\n",
    "    nextErr = 0\n",
    "    initErr = 0\n",
    "    for k in range(max_epochs):\n",
    "        a = list(range(len(Y)))\n",
    "        random.shuffle(a)\n",
    "        for i in a:\n",
    "            U[Y[i][0] - 1] = U[Y[i][0] - 1] - grad_U(U[Y[i][0] - 1], Y[i][2], V[Y[i][1] - 1], reg, eta, A[Y[i][0] - 1], B[Y[i][1] - 1])\n",
    "            V[Y[i][1] - 1] = V[Y[i][1] - 1] - grad_V(V[Y[i][1] - 1], Y[i][2], U[Y[i][0] - 1], reg, eta, A[Y[i][0] - 1], B[Y[i][1] - 1])\n",
    "            A[Y[i][0] - 1] = A[Y[i][0] - 1] - grad_AB(V[Y[i][1] - 1], Y[i][2], U[Y[i][0] - 1], reg, eta, A[Y[i][0] - 1], B[Y[i][1] - 1])\n",
    "            B[Y[i][1] - 1] = B[Y[i][1] - 1] - grad_AB(V[Y[i][1] - 1], Y[i][2], U[Y[i][0] - 1], reg, eta, A[Y[i][0] - 1], B[Y[i][1] - 1])\n",
    "        \n",
    "        # print(V)\n",
    "        nextErr = get_err(U, V, Y, A, B, reg)\n",
    "        if(k == 0):\n",
    "            initErr = np.abs(nextErr - err)\n",
    "\n",
    "        # print(err)\n",
    "        if abs(nextErr - err) / initErr <= eps:\n",
    "            break\n",
    "        err = nextErr\n",
    "        print(\"did err\", err)\n",
    "        \n",
    "    return (U, V, nextErr)"
   ]
  },
  {
   "cell_type": "markdown",
   "metadata": {},
   "source": [
    "We will use a regularization parameter of $\\lambda=0.1$ since this performed best on the test set in the homework. Our stop criteria will be 300 epochs since this is probably enough epochs to converge if the model is able to converge to a particular value, and our other stop condition will be if the change over an epoch is very small relative to the change over the first epoch, which indicates that the model has basically converged."
   ]
  },
  {
   "cell_type": "code",
   "execution_count": 74,
   "metadata": {},
   "outputs": [
    {
     "name": "stdout",
     "output_type": "stream",
     "text": [
      "Factorizing with  943  users,  1682  movies.\n",
      "(943,) (1682,)\n",
      "did err 0.4694226551461339\n",
      "did err 0.3657031721936883\n",
      "did err 0.3174966711218332\n",
      "did err 0.2852839925671906\n",
      "did err 0.26276700319893653\n",
      "did err 0.24596225323216128\n",
      "did err 0.23371471709851865\n",
      "did err 0.22350889884432565\n",
      "did err 0.21526122258439176\n",
      "did err 0.20925973198057415\n",
      "did err 0.20421865110900156\n",
      "did err 0.1996742054585826\n",
      "did err 0.19600771985678345\n",
      "did err 0.19360801125267793\n",
      "did err 0.19184135297134064\n",
      "did err 0.18929494610206793\n",
      "did err 0.1881698531729483\n",
      "did err 0.1865723835630006\n",
      "0.18653871549291007 0.6396529844340706\n"
     ]
    }
   ],
   "source": [
    "M = max(max(train[:, 0]), max(test[:, 0])).astype(int)\n",
    "N = max(max(train[:, 1]), max(test[:, 1])).astype(int)\n",
    "print(\"Factorizing with \", M, \" users, \", N, \" movies.\")\n",
    "\n",
    "\n",
    "reg = 0.0\n",
    "eta = 0.03\n",
    "\n",
    "A = np.zeros(M)\n",
    "B = np.zeros(N)\n",
    "\n",
    "print(np.shape(A), np.shape(B))\n",
    "for i in range(M):\n",
    "    A[i] = random.uniform(-0.5, 0.5)\n",
    "\n",
    "for i in range(N):\n",
    "    B[i] = random.uniform(-0.5, 0.5)\n",
    "\n",
    "U, V, err = train_model(M, N, 20, eta, reg, train, A, B)\n",
    "eout = get_err(U, V, test, A, B)\n",
    "print(err, eout)"
   ]
  },
  {
   "cell_type": "code",
   "execution_count": 65,
   "metadata": {},
   "outputs": [
    {
     "data": {
      "text/plain": [
       "array(['Toy Story (1995)', 'GoldenEye (1995)', 'Four Rooms (1995)', ...,\n",
       "       'Sliding Doors (1998)', 'You So Crazy (1994)',\n",
       "       'Scream of Stone (Schrei aus Stein) (1991)'], dtype='<U83')"
      ]
     },
     "execution_count": 65,
     "metadata": {},
     "output_type": "execute_result"
    }
   ],
   "source": [
    "# save the movie names to a file\n",
    "\n",
    "f = open('data/movieNames.txt','w')\n",
    "for j in range(len(movies)):\n",
    "    f.write(movies[j][0] + ' ' + movies[j][1] + '\\n')\n",
    "# f.write('hello world')\n",
    "f.close()\n",
    "movies[:, 1]"
   ]
  },
  {
   "cell_type": "code",
   "execution_count": null,
   "metadata": {},
   "outputs": [],
   "source": []
  }
 ],
 "metadata": {
  "kernelspec": {
   "display_name": "Python 3",
   "language": "python",
   "name": "python3"
  },
  "language_info": {
   "codemirror_mode": {
    "name": "ipython",
    "version": 3
   },
   "file_extension": ".py",
   "mimetype": "text/x-python",
   "name": "python",
   "nbconvert_exporter": "python",
   "pygments_lexer": "ipython3",
   "version": "3.6.3"
  }
 },
 "nbformat": 4,
 "nbformat_minor": 2
}
