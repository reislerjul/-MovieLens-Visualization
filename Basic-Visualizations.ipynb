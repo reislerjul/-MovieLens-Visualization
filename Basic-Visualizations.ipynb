{
 "cells": [
  {
   "cell_type": "code",
   "execution_count": 2,
   "metadata": {},
   "outputs": [],
   "source": [
    "import numpy as np\n",
    "import matplotlib.pyplot as plt"
   ]
  },
  {
   "cell_type": "markdown",
   "metadata": {},
   "source": [
    "## 4 Basic Visualizations"
   ]
  },
  {
   "cell_type": "markdown",
   "metadata": {},
   "source": [
    "Load in each data file:"
   ]
  },
  {
   "cell_type": "code",
   "execution_count": 3,
   "metadata": {},
   "outputs": [],
   "source": [
    "data = np.loadtxt('data/data.txt', skiprows=0, delimiter='\\t', dtype='int')\n",
    "test = np.loadtxt('data/test.txt', skiprows=0, delimiter='\\t', dtype='int')\n",
    "train = np.loadtxt('data/train.txt', skiprows=0, delimiter='\\t', dtype='int')\n",
    "movies = np.loadtxt('data/movies.txt', skiprows=0, delimiter='\\t', dtype='str')"
   ]
  },
  {
   "cell_type": "markdown",
   "metadata": {},
   "source": [
    "### 1"
   ]
  },
  {
   "cell_type": "markdown",
   "metadata": {},
   "source": [
    "Create a histogram of all the ratings in the dataset. First, put all the ratings into a list and then plot. "
   ]
  },
  {
   "cell_type": "code",
   "execution_count": 12,
   "metadata": {},
   "outputs": [
    {
     "data": {
      "image/png": "[encoded data removed]",
      "text/plain": [
       "<matplotlib.figure.Figure at 0x10658e780>"
      ]
     },
     "metadata": {},
     "output_type": "display_data"
    }
   ],
   "source": [
    "ratings = []\n",
    "for element in data:\n",
    "    ratings.append(int(element[2]))\n",
    "\n",
    "plt.hist(ratings, normed=False, histtype='stepfilled', alpha=0.2, label='ratings')\n",
    "plt.title('All Ratings')\n",
    "plt.ylabel('Number of Ratings')\n",
    "plt.xlabel('Rating')\n",
    "\n",
    "plt.show()"
   ]
  },
  {
   "cell_type": "markdown",
   "metadata": {},
   "source": [
    "### 2"
   ]
  },
  {
   "cell_type": "markdown",
   "metadata": {},
   "source": [
    "First, we will determine the 10 most popular movies. To do this, we will go through the data dataset and determine the number of ratings that each movie has received"
   ]
  },
  {
   "cell_type": "code",
   "execution_count": 5,
   "metadata": {},
   "outputs": [],
   "source": [
    "totalRatings = {}\n",
    "for element in data:\n",
    "    if element[1] in totalRatings:\n",
    "        totalRatings[element[1]] += 1\n",
    "    else:\n",
    "        totalRatings[element[1]] = 1"
   ]
  },
  {
   "cell_type": "markdown",
   "metadata": {},
   "source": [
    "Now, convert the dictionary to a list and sort by the number of ratings:"
   ]
  },
  {
   "cell_type": "code",
   "execution_count": 6,
   "metadata": {},
   "outputs": [],
   "source": [
    "ratingList = []\n",
    "\n",
    "for item in totalRatings.items():\n",
    "    ratingList.append(item)\n",
    "    \n",
    "ratingList.sort(key=lambda x: x[1], reverse=True)"
   ]
  },
  {
   "cell_type": "markdown",
   "metadata": {},
   "source": [
    "Print out the 10 most popular movies:"
   ]
  },
  {
   "cell_type": "code",
   "execution_count": 7,
   "metadata": {},
   "outputs": [
    {
     "data": {
      "text/plain": [
       "[(50, 583),\n",
       " (258, 509),\n",
       " (100, 508),\n",
       " (181, 507),\n",
       " (294, 485),\n",
       " (286, 481),\n",
       " (288, 478),\n",
       " (1, 452),\n",
       " (300, 431),\n",
       " (121, 429)]"
      ]
     },
     "execution_count": 7,
     "metadata": {},
     "output_type": "execute_result"
    }
   ],
   "source": [
    "ratingList[:10]"
   ]
  },
  {
   "cell_type": "markdown",
   "metadata": {},
   "source": [
    "Create a dictionary for the ten most popular movies, find all the ratings, and plot as a histogram:"
   ]
  },
  {
   "cell_type": "code",
   "execution_count": 11,
   "metadata": {},
   "outputs": [
    {
     "data": {
      "image/png": "[encoded data removed]",
      "text/plain": [
       "<matplotlib.figure.Figure at 0x110d8f710>"
      ]
     },
     "metadata": {},
     "output_type": "display_data"
    }
   ],
   "source": [
    "popular = {}\n",
    "for item in ratingList[:10]:\n",
    "    popular[item[0]] = True\n",
    "    \n",
    "popularRatings = []\n",
    "for element in data:\n",
    "    if element[1] in popular:\n",
    "        popularRatings.append(int(element[2]))\n",
    "\n",
    "plt.hist(popularRatings, normed=False, histtype='stepfilled', alpha=0.2, label='ratings')\n",
    "plt.title('Ratings of 10 Most Popular Movies')\n",
    "plt.ylabel('Number of Ratings')\n",
    "plt.xlabel('Rating')\n",
    "plt.show()"
   ]
  },
  {
   "cell_type": "markdown",
   "metadata": {},
   "source": [
    "### 3"
   ]
  },
  {
   "cell_type": "markdown",
   "metadata": {},
   "source": [
    "Find the average ratings of each movie and sort a list by the best rated:"
   ]
  },
  {
   "cell_type": "code",
   "execution_count": 14,
   "metadata": {},
   "outputs": [],
   "source": [
    "avgRatings = {}\n",
    "for element in data:\n",
    "    if element[1] in avgRatings:\n",
    "        avgRatings[element[1]][0] += int(element[2])\n",
    "        avgRatings[element[1]][1] += 1\n",
    "    else:\n",
    "        avgRatings[element[1]] = [int(element[2]), 1]\n",
    "\n",
    "        \n",
    "avgRatingList = []\n",
    "\n",
    "for key, value in avgRatings.items():\n",
    "    avgRatingList.append((key, value[0] / float(value[1])))\n",
    "    \n",
    "avgRatingList.sort(key=lambda x: x[1], reverse=True)"
   ]
  },
  {
   "cell_type": "markdown",
   "metadata": {},
   "source": [
    "Print out the 10 best rated movies:"
   ]
  },
  {
   "cell_type": "code",
   "execution_count": 9,
   "metadata": {},
   "outputs": [
    {
     "data": {
      "text/plain": [
       "[(1189, 5.0),\n",
       " (1500, 5.0),\n",
       " (814, 5.0),\n",
       " (1536, 5.0),\n",
       " (1293, 5.0),\n",
       " (1599, 5.0),\n",
       " (1653, 5.0),\n",
       " (1467, 5.0),\n",
       " (1122, 5.0),\n",
       " (1201, 5.0)]"
      ]
     },
     "execution_count": 9,
     "metadata": {},
     "output_type": "execute_result"
    }
   ],
   "source": [
    "avgRatingList[:10]"
   ]
  },
  {
   "cell_type": "markdown",
   "metadata": {},
   "source": [
    "Create a dictionary for the ten best rated movies, find all the ratings, and plot as a histogram:"
   ]
  },
  {
   "cell_type": "code",
   "execution_count": 15,
   "metadata": {},
   "outputs": [
    {
     "data": {
      "image/png": "[encoded data removed]",
      "text/plain": [
       "<matplotlib.figure.Figure at 0x110073898>"
      ]
     },
     "metadata": {},
     "output_type": "display_data"
    }
   ],
   "source": [
    "best = {}\n",
    "for item in avgRatingList[:10]:\n",
    "    best[item[0]] = True\n",
    "    \n",
    "bestRatings = []\n",
    "for element in data:\n",
    "    if element[1] in best:\n",
    "        bestRatings.append(int(element[2]))\n",
    "\n",
    "plt.hist(bestRatings, normed=True, histtype='stepfilled', alpha=0.2, label='ratings')\n",
    "plt.title('Ratings of 10 Best Rated Movies')\n",
    "plt.ylabel('Number of Ratings')\n",
    "plt.xlabel('Rating')\n",
    "plt.show()"
   ]
  },
  {
   "cell_type": "markdown",
   "metadata": {},
   "source": [
    "### 4"
   ]
  },
  {
   "cell_type": "markdown",
   "metadata": {},
   "source": [
    "We choose to do the genres Comedy, Western, and Romance."
   ]
  },
  {
   "cell_type": "code",
   "execution_count": 11,
   "metadata": {},
   "outputs": [
    {
     "name": "stdout",
     "output_type": "stream",
     "text": [
      "['1' 'Toy Story (1995)' '0' '0' '0' '1' '1' '1' '0' '0' '0' '0' '0' '0'\n",
      " '0' '0' '0' '0' '0' '0' '0']\n"
     ]
    }
   ],
   "source": [
    "print(movies[0])"
   ]
  },
  {
   "cell_type": "markdown",
   "metadata": {},
   "source": [
    "Find all the movies that are comedy, western, and/or romance:"
   ]
  },
  {
   "cell_type": "code",
   "execution_count": 16,
   "metadata": {},
   "outputs": [],
   "source": [
    "genres = {'Comedy':[], 'Western':[], 'Animation':[]}\n",
    "for movie in movies:\n",
    "    if movie[7] == '1':\n",
    "        genres['Comedy'].append(int(movie[0]))\n",
    "    if movie[20] == '1':\n",
    "        genres['Western'].append(int(movie[0]))\n",
    "    if movie[16] == '1':\n",
    "        genres['Animation'].append(int(movie[0]))"
   ]
  },
  {
   "cell_type": "markdown",
   "metadata": {},
   "source": [
    "For the movies in each category, find all the ratings and plot a histogram:"
   ]
  },
  {
   "cell_type": "code",
   "execution_count": 17,
   "metadata": {},
   "outputs": [
    {
     "data": {
      "image/png": "[encoded data removed]",
      "text/plain": [
       "<matplotlib.figure.Figure at 0x1101544e0>"
      ]
     },
     "metadata": {},
     "output_type": "display_data"
    },
    {
     "data": {
      "image/png": "[encoded data removed]",
      "text/plain": [
       "<matplotlib.figure.Figure at 0x1101546d8>"
      ]
     },
     "metadata": {},
     "output_type": "display_data"
    },
    {
     "data": {
      "image/png": "[encoded data removed]",
      "text/plain": [
       "<matplotlib.figure.Figure at 0x11028bf28>"
      ]
     },
     "metadata": {},
     "output_type": "display_data"
    }
   ],
   "source": [
    "for genre in genres.keys():\n",
    "    genre_ratings = []\n",
    "    temp = genres[genre]\n",
    "    for element in data:\n",
    "        if element[1] in temp:\n",
    "            genre_ratings.append(int(element[2]))\n",
    "    title = genre + ' Ratings'\n",
    "    plt.hist(genre_ratings, normed=True, histtype='stepfilled', alpha=0.2, label='ratings')\n",
    "    plt.title(title)\n",
    "    plt.ylabel('Number of Ratings')\n",
    "    plt.xlabel('Rating')\n",
    "    plt.show()"
   ]
  },
  {
   "cell_type": "code",
   "execution_count": null,
   "metadata": {},
   "outputs": [],
   "source": []
  }
 ],
 "metadata": {
  "kernelspec": {
   "display_name": "Python 3",
   "language": "python",
   "name": "python3"
  },
  "language_info": {
   "codemirror_mode": {
    "name": "ipython",
    "version": 3
   },
   "file_extension": ".py",
   "mimetype": "text/x-python",
   "name": "python",
   "nbconvert_exporter": "python",
   "pygments_lexer": "ipython3",
   "version": "3.6.3"
  }
 },
 "nbformat": 4,
 "nbformat_minor": 2
}
