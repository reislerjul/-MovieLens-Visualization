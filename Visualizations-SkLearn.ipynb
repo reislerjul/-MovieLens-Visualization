{
 "cells": [
  {
   "cell_type": "code",
   "execution_count": 1,
   "metadata": {
    "collapsed": true
   },
   "outputs": [],
   "source": [
    "import numpy as np\n",
    "import matplotlib.pyplot as plt"
   ]
  },
  {
   "cell_type": "markdown",
   "metadata": {},
   "source": [
    "## 4 Basic Visualizations"
   ]
  },
  {
   "cell_type": "markdown",
   "metadata": {},
   "source": [
    "Load in each data file:"
   ]
  },
  {
   "cell_type": "code",
   "execution_count": 2,
   "metadata": {
    "collapsed": true
   },
   "outputs": [],
   "source": [
    "data = np.loadtxt('data/data.txt', skiprows=0, delimiter='\\t', dtype='int')\n",
    "test = np.loadtxt('data/test.txt', skiprows=0, delimiter='\\t', dtype='int')\n",
    "train = np.loadtxt('data/train.txt', skiprows=0, delimiter='\\t', dtype='int')\n",
    "movies = np.loadtxt('data/movies.txt', skiprows=0, delimiter='\\t', dtype='str')"
   ]
  },
  {
   "cell_type": "markdown",
   "metadata": {},
   "source": [
    "### 1"
   ]
  },
  {
   "cell_type": "markdown",
   "metadata": {},
   "source": [
    "Create a histogram of all the ratings in the dataset. First, put all the ratings into a list and then plot. "
   ]
  },
  {
   "cell_type": "code",
   "execution_count": 3,
   "metadata": {},
   "outputs": [
    {
     "data": {
      "image/png": "[encoded data removed]",
      "text/plain": [
       "<matplotlib.figure.Figure at 0x10bea6cc0>"
      ]
     },
     "metadata": {},
     "output_type": "display_data"
    }
   ],
   "source": [
    "ratings = []\n",
    "for element in data:\n",
    "    ratings.append(int(element[2]))\n",
    "\n",
    "plt.hist(ratings, normed=True, histtype='stepfilled', alpha=0.2, label='ratings')\n",
    "plt.title('Ratings')\n",
    "plt.show()"
   ]
  },
  {
   "cell_type": "markdown",
   "metadata": {},
   "source": [
    "### 2"
   ]
  },
  {
   "cell_type": "markdown",
   "metadata": {},
   "source": [
    "First, we will determine the 10 most popular movies. To do this, we will go through the data dataset and determine the number of ratings that each movie has received"
   ]
  },
  {
   "cell_type": "code",
   "execution_count": 4,
   "metadata": {
    "collapsed": true
   },
   "outputs": [],
   "source": [
    "totalRatings = {}\n",
    "for element in data:\n",
    "    if element[1] in totalRatings:\n",
    "        totalRatings[element[1]] += 1\n",
    "    else:\n",
    "        totalRatings[element[1]] = 1"
   ]
  },
  {
   "cell_type": "markdown",
   "metadata": {},
   "source": [
    "Now, convert the dictionary to a list and sort by the number of ratings:"
   ]
  },
  {
   "cell_type": "code",
   "execution_count": 5,
   "metadata": {
    "collapsed": true
   },
   "outputs": [],
   "source": [
    "ratingList = []\n",
    "\n",
    "for item in totalRatings.items():\n",
    "    ratingList.append(item)\n",
    "    \n",
    "ratingList.sort(key=lambda x: x[1], reverse=True)"
   ]
  },
  {
   "cell_type": "markdown",
   "metadata": {},
   "source": [
    "Print out the 10 most popular movies:"
   ]
  },
  {
   "cell_type": "code",
   "execution_count": 6,
   "metadata": {},
   "outputs": [
    {
     "data": {
      "text/plain": [
       "[(50, 583),\n",
       " (258, 509),\n",
       " (100, 508),\n",
       " (181, 507),\n",
       " (294, 485),\n",
       " (286, 481),\n",
       " (288, 478),\n",
       " (1, 452),\n",
       " (300, 431),\n",
       " (121, 429)]"
      ]
     },
     "execution_count": 6,
     "metadata": {},
     "output_type": "execute_result"
    }
   ],
   "source": [
    "ratingList[:10]"
   ]
  },
  {
   "cell_type": "markdown",
   "metadata": {},
   "source": [
    "Create a dictionary for the ten most popular movies, find all the ratings, and plot as a histogram:"
   ]
  },
  {
   "cell_type": "code",
   "execution_count": 7,
   "metadata": {},
   "outputs": [
    {
     "data": {
      "image/png": "[encoded data removed]",
      "text/plain": [
       "<matplotlib.figure.Figure at 0x10ef4dc18>"
      ]
     },
     "metadata": {},
     "output_type": "display_data"
    }
   ],
   "source": [
    "popular = {}\n",
    "for item in ratingList[:10]:\n",
    "    popular[item[0]] = True\n",
    "    \n",
    "popularRatings = []\n",
    "for element in data:\n",
    "    if element[1] in popular:\n",
    "        popularRatings.append(int(element[2]))\n",
    "\n",
    "plt.hist(popularRatings, normed=True, histtype='stepfilled', alpha=0.2, label='ratings')\n",
    "plt.title('Ratings of 10 Most Popular Movies')\n",
    "plt.show()"
   ]
  },
  {
   "cell_type": "markdown",
   "metadata": {},
   "source": [
    "### 3"
   ]
  },
  {
   "cell_type": "markdown",
   "metadata": {},
   "source": [
    "Find the average ratings of each movie and sort a list by the best rated:"
   ]
  },
  {
   "cell_type": "code",
   "execution_count": 8,
   "metadata": {
    "collapsed": true
   },
   "outputs": [],
   "source": [
    "avgRatings = {}\n",
    "for element in data:\n",
    "    if element[1] in avgRatings:\n",
    "        avgRatings[element[1]][0] += int(element[2])\n",
    "        avgRatings[element[1]][1] += 1\n",
    "    else:\n",
    "        avgRatings[element[1]] = [int(element[2]), 1]\n",
    "\n",
    "        \n",
    "avgRatingList = []\n",
    "\n",
    "for key, value in avgRatings.items():\n",
    "    avgRatingList.append((key, value[0] / float(value[1])))\n",
    "    \n",
    "avgRatingList.sort(key=lambda x: x[1], reverse=True)"
   ]
  },
  {
   "cell_type": "markdown",
   "metadata": {},
   "source": [
    "Print out the 10 best rated movies:"
   ]
  },
  {
   "cell_type": "code",
   "execution_count": 9,
   "metadata": {},
   "outputs": [
    {
     "data": {
      "text/plain": [
       "[(1189, 5.0),\n",
       " (1500, 5.0),\n",
       " (814, 5.0),\n",
       " (1536, 5.0),\n",
       " (1293, 5.0),\n",
       " (1599, 5.0),\n",
       " (1653, 5.0),\n",
       " (1467, 5.0),\n",
       " (1122, 5.0),\n",
       " (1201, 5.0)]"
      ]
     },
     "execution_count": 9,
     "metadata": {},
     "output_type": "execute_result"
    }
   ],
   "source": [
    "avgRatingList[:10]"
   ]
  },
  {
   "cell_type": "markdown",
   "metadata": {},
   "source": [
    "Create a dictionary for the ten best rated movies, find all the ratings, and plot as a histogram:"
   ]
  },
  {
   "cell_type": "code",
   "execution_count": 10,
   "metadata": {},
   "outputs": [
    {
     "data": {
      "image/png": "[encoded data removed]",
      "text/plain": [
       "<matplotlib.figure.Figure at 0x10f08b8d0>"
      ]
     },
     "metadata": {},
     "output_type": "display_data"
    }
   ],
   "source": [
    "best = {}\n",
    "for item in avgRatingList[:10]:\n",
    "    best[item[0]] = True\n",
    "    \n",
    "bestRatings = []\n",
    "for element in data:\n",
    "    if element[1] in best:\n",
    "        bestRatings.append(int(element[2]))\n",
    "\n",
    "plt.hist(bestRatings, normed=True, histtype='stepfilled', alpha=0.2, label='ratings')\n",
    "plt.title('Ratings of 10 Best Rated Movies')\n",
    "plt.show()"
   ]
  },
  {
   "cell_type": "markdown",
   "metadata": {},
   "source": [
    "### 4"
   ]
  },
  {
   "cell_type": "markdown",
   "metadata": {},
   "source": [
    "We choose to do the genres Comedy, Western, and Romance."
   ]
  },
  {
   "cell_type": "code",
   "execution_count": 11,
   "metadata": {},
   "outputs": [
    {
     "name": "stdout",
     "output_type": "stream",
     "text": [
      "['1' 'Toy Story (1995)' '0' '0' '0' '1' '1' '1' '0' '0' '0' '0' '0' '0' '0'\n",
      " '0' '0' '0' '0' '0' '0']\n"
     ]
    }
   ],
   "source": [
    "print(movies[0])"
   ]
  },
  {
   "cell_type": "code",
   "execution_count": 12,
   "metadata": {},
   "outputs": [
    {
     "name": "stdout",
     "output_type": "stream",
     "text": [
      "[['1' 'Toy Story (1995)' '0' ..., '0' '0' '0']\n",
      " ['2' 'GoldenEye (1995)' '0' ..., '1' '0' '0']\n",
      " ['3' 'Four Rooms (1995)' '0' ..., '1' '0' '0']\n",
      " ..., \n",
      " ['1680' 'Sliding Doors (1998)' '0' ..., '0' '0' '0']\n",
      " ['1681' 'You So Crazy (1994)' '0' ..., '0' '0' '0']\n",
      " ['1682' 'Scream of Stone (Schrei aus Stein) (1991)' '0' ..., '0' '0' '0']]\n"
     ]
    }
   ],
   "source": [
    "print(movies)"
   ]
  },
  {
   "cell_type": "markdown",
   "metadata": {},
   "source": [
    "Find all the movies that are comedy, western, and/or animation:"
   ]
  },
  {
   "cell_type": "code",
   "execution_count": 13,
   "metadata": {
    "collapsed": true
   },
   "outputs": [],
   "source": [
    "genres = {'Comedy':[], 'Western':[], 'Animation':[]}\n",
    "for movie in movies:\n",
    "    if movie[7] == '1':\n",
    "        genres['Comedy'].append(int(movie[0]))\n",
    "    if movie[20] == '1':\n",
    "        genres['Western'].append(int(movie[0]))\n",
    "    if movie[16] == '1':\n",
    "        genres['Animation'].append(int(movie[0]))"
   ]
  },
  {
   "cell_type": "markdown",
   "metadata": {},
   "source": [
    "For the movies in each category, find all the ratings and plot a histogram:"
   ]
  },
  {
   "cell_type": "code",
   "execution_count": 14,
   "metadata": {},
   "outputs": [
    {
     "data": {
      "image/png": "[encoded data removed]",
      "text/plain": [
       "<matplotlib.figure.Figure at 0x10ef2e4e0>"
      ]
     },
     "metadata": {},
     "output_type": "display_data"
    },
    {
     "data": {
      "image/png": "[encoded data removed]",
      "text/plain": [
       "<matplotlib.figure.Figure at 0x10f0ba908>"
      ]
     },
     "metadata": {},
     "output_type": "display_data"
    },
    {
     "data": {
      "image/png": "[encoded data removed]",
      "text/plain": [
       "<matplotlib.figure.Figure at 0x10f084208>"
      ]
     },
     "metadata": {},
     "output_type": "display_data"
    }
   ],
   "source": [
    "for genre in genres.keys():\n",
    "    genre_ratings = []\n",
    "    temp = genres[genre]\n",
    "    for element in data:\n",
    "        if element[1] in temp:\n",
    "            genre_ratings.append(int(element[2]))\n",
    "    title = genre + ' Ratings'\n",
    "    plt.hist(genre_ratings, normed=True, histtype='stepfilled', alpha=0.2, label='ratings')\n",
    "    plt.title(title)\n",
    "    plt.show()"
   ]
  },
  {
   "cell_type": "markdown",
   "metadata": {
    "collapsed": true
   },
   "source": [
    "### 5 Matrix Factorization Visualizations"
   ]
  },
  {
   "cell_type": "markdown",
   "metadata": {},
   "source": [
    "### Part 1"
   ]
  },
  {
   "cell_type": "markdown",
   "metadata": {},
   "source": [
    "Below is my code from Homework 5:"
   ]
  },
  {
   "cell_type": "code",
   "execution_count": null,
   "metadata": {
    "collapsed": true
   },
   "outputs": [],
   "source": [
    "import numpy as np\n",
    "\n",
    "def grad_U(Ui, Yij, Vj, reg, eta):\n",
    "    \"\"\"\n",
    "    Takes as input Ui (the ith row of U), a training point Yij, the column\n",
    "    vector Vj (jth column of V^T), reg (the regularization parameter lambda),\n",
    "    and eta (the learning rate).\n",
    "\n",
    "    Returns the gradient of the regularized loss function with\n",
    "    respect to Ui multiplied by eta.\n",
    "    \"\"\"\n",
    "    return eta * (reg * Ui - np.dot(Vj, (Yij - np.dot(Ui, Vj))))\n",
    "       \n",
    "def grad_V(Vj, Yij, Ui, reg, eta):\n",
    "    \"\"\"\n",
    "    Takes as input the column vector Vj (jth column of V^T), a training point Yij,\n",
    "    Ui (the ith row of U), reg (the regularization parameter lambda),\n",
    "    and eta (the learning rate).\n",
    "\n",
    "    Returns the gradient of the regularized loss function with\n",
    "    respect to Vj multiplied by eta.\n",
    "    \"\"\"\n",
    "    return eta * (reg * Vj - np.dot(Ui, (Yij - np.dot(Ui, Vj))))\n",
    "\n",
    "def get_err(U, V, Y, reg=0.1):\n",
    "    \"\"\"\n",
    "    Takes as input a matrix Y of triples (i, j, Y_ij) where i is the index of a user,\n",
    "    j is the index of a movie, and Y_ij is user i's rating of movie j and\n",
    "    user/movie matrices U and V.\n",
    "\n",
    "    Returns the mean regularized squared-error of predictions made by\n",
    "    estimating Y_{ij} as the dot product of the ith row of U and the jth column of V^T.\n",
    "    \"\"\"\n",
    "    \n",
    "    # Sum of the squared loss\n",
    "    summation = 0\n",
    "    for element in Y:\n",
    "        i = element[0]\n",
    "        j = element[1]\n",
    "        Y_ij = element[2]\n",
    "        summation += ((Y_ij - np.dot(U[i - 1], V[j - 1])) ** 2)\n",
    "    \n",
    "    # Norm squared U \n",
    "    fro_U = 0\n",
    "    for x in range(len(U)):\n",
    "        for y in range(len(U[0])):\n",
    "            fro_U += (U[x][y] ** 2)\n",
    "\n",
    "    # Norm squared V \n",
    "    fro_V = 0\n",
    "    for x in range(len(V)):\n",
    "        for y in range(len(V[0])):\n",
    "            fro_V += (V[x][y] ** 2)\n",
    "    \n",
    "    # Divide by the length of Y since its mean squared error\n",
    "    return ((reg / 2) * (fro_U + fro_V) + 0.5 * summation) / len(Y)\n",
    "\n",
    "def train_model(M, N, K, eta, reg, Y, eps=0.0001, max_epochs=300):\n",
    "    \"\"\"\n",
    "    Given a training data matrix Y containing rows (i, j, Y_ij)\n",
    "    where Y_ij is user i's rating on movie j, learns an\n",
    "    M x K matrix U and N x K matrix V such that rating Y_ij is approximated\n",
    "    by (UV^T)_ij.\n",
    "\n",
    "    Uses a learning rate of <eta> and regularization of <reg>. Stops after\n",
    "    <max_epochs> epochs, or once the magnitude of the decrease in regularized\n",
    "    MSE between epochs is smaller than a fraction <eps> of the decrease in\n",
    "    MSE after the first epoch.\n",
    "\n",
    "    Returns a tuple (U, V, err) consisting of U, V, and the unregularized MSE\n",
    "    of the model.\n",
    "    \"\"\"\n",
    "    \n",
    "    U = []\n",
    "    V = []\n",
    "    \n",
    "    # Initialize the U and V matrixes\n",
    "    for i in range(M):\n",
    "        temp = []\n",
    "        for j in range(K):\n",
    "            temp.append(np.random.uniform(-0.5, 0.5))\n",
    "        U.append(temp)\n",
    "        \n",
    "    for i in range(N):\n",
    "        temp = []\n",
    "        for j in range(K):\n",
    "            temp.append(np.random.uniform(-0.5, 0.5))\n",
    "        V.append(temp)   \n",
    "    U = np.array(U)\n",
    "    V = np.array(V)\n",
    "    \n",
    "    # Now, run the algorithm\n",
    "    loss_reduct_0 = 0\n",
    "    loss_prev = get_err_without_bias(U, V, Y)\n",
    "    for i in range(max_epochs):\n",
    "        \n",
    "        # Shuffle order of datapoints\n",
    "        indices = np.random.permutation(len(Y))\n",
    "        for index in indices:\n",
    "            \n",
    "            # Update U using the ith row of U. The data is 1 indexed so we must change this to \n",
    "            # 0 indexed\n",
    "            U[Y[index][0] - 1] = U[Y[index][0] - 1] - grad_U(U[Y[index][0] - 1], Y[index][2], V[Y[index][1] - 1], reg, eta)\n",
    "            \n",
    "            # Update V using the jth column of V\n",
    "            V[Y[index][1] - 1] = V[Y[index][1] - 1] - grad_V(V[Y[index][1] - 1], Y[index][2], U[Y[index][0] - 1], reg, eta)\n",
    "\n",
    "        if i == 0:\n",
    "            loss_reduct_0 = loss_prev - get_err_without_bias(U, V, Y)\n",
    "        \n",
    "        if (loss_prev - get_err(U, V, Y)) / loss_reduct_0 <= eps:\n",
    "            break\n",
    "            \n",
    "        loss_prev = get_err_without_bias(U, V, Y)\n",
    "        print(i)\n",
    "    \n",
    "    # Calculate mean unregularized error\n",
    "    summation = 0\n",
    "    for element in Y:\n",
    "        i = element[0]\n",
    "        j = element[1]\n",
    "        Y_ij = element[2]\n",
    "        summation += ((Y_ij - np.dot(U[i - 1], V[j - 1])) ** 2)\n",
    "        \n",
    "    return (U, V, summation / (2 * len(Y)))"
   ]
  },
  {
   "cell_type": "markdown",
   "metadata": {},
   "source": [
    "We will use a regularization parameter of $\\lambda=0.1$ since this performed best on the test set in the homework. Our stop criteria will be 300 epochs since this is probably enough epochs to converge if the model is able to converge to a particular value, and our other stop condition will be if the change over an epoch is very small relative to the change over the first epoch, which indicates that the model has basically converged."
   ]
  },
  {
   "cell_type": "markdown",
   "metadata": {},
   "source": [
    "1 Train data using Matrix Factorization code from Assignment 5."
   ]
  },
  {
   "cell_type": "code",
   "execution_count": 168,
   "metadata": {},
   "outputs": [],
   "source": [
    "import random\n",
    "import numpy as np\n",
    "\n",
    "def grad_U_without_bias(Ui, Yij, Vj, reg, eta):\n",
    "    \"\"\"\n",
    "    Takes as input Ui (the ith row of U), a training point Yij, the column\n",
    "    vector Vj (jth column of V^T), reg (the regularization parameter lambda),\n",
    "    and eta (the learning rate).\n",
    "\n",
    "    Returns the gradient of the regularized loss function with\n",
    "    respect to Ui multiplied by eta.\n",
    "    \"\"\"\n",
    "    #summation = Vj * (Yij - (np.dot(Ui, Vj)))\n",
    "\n",
    "    summation = Vj * (Yij - (np.dot(Ui, Vj)))\n",
    "    #answer = (reg * Ui) - summation\n",
    "    answer = (reg * Ui) - summation\n",
    "    #print(answer)\n",
    "    return answer * eta\n",
    "\n",
    "def grad_V_without_bias(Vj, Yij, Ui, reg, eta):\n",
    "    \"\"\"\n",
    "    Takes as input the column vector Vj (jth column of V^T), a training point Yij,\n",
    "    Ui (the ith row of U), reg (the regularization parameter lambda),\n",
    "    and eta (the learning rate).\n",
    "\n",
    "    Returns the gradient of the regularized loss function with\n",
    "    respect to Vj multiplied by eta.\n",
    "    \"\"\"\n",
    "    #summation = Ui * (Yij - (np.dot(Ui, Vj)))\n",
    "\n",
    "    summation = Ui * (Yij - (np.dot(Ui, Vj)))\n",
    "    #answer = (reg * Vj) - summation\n",
    "    answer = (reg * Vj) - summation\n",
    "    #print(answer)\n",
    "    return answer * eta\n",
    "\n",
    "def get_err_without_bias(U, V, Y, reg=0.0):\n",
    "    \"\"\"\n",
    "    Takes as input a matrix Y of triples (i, j, Y_ij) where i is the index of a user,\n",
    "    j is the index of a movie, and Y_ij is user i's rating of movie j and\n",
    "    user/movie matrices U and V.\n",
    "\n",
    "    Returns the mean regularized squared-error of predictions made by\n",
    "    estimating Y_{ij} as the dot product of the ith row of U and the jth column of V^T.\n",
    "    \"\"\"\n",
    "    error = 0\n",
    "    for n in range(0, len(Y)):\n",
    "        i = Y[n][0] - 1\n",
    "        j = Y[n][1] - 1\n",
    "        Yij = Y[n][2]\n",
    "        Ui = U[i]\n",
    "        Vj = V[j]\n",
    "        est = np.dot(Ui, Vj)\n",
    "        error += ((Yij - est)**2)\n",
    "\n",
    "    error /= 2\n",
    "    regularized = error + ((reg/2)*(np.linalg.norm(U)**2 + np.linalg.norm(V)**2))\n",
    "    print(regularized/len(Y))\n",
    "    return regularized/len(Y)\n",
    "\n",
    "\n",
    "def train_model_without_bias(M, N, K, eta, reg, Y, eps=0.0001, max_epochs=300):\n",
    "    \"\"\"\n",
    "    Given a training data matrix Y containing rows (i, j, Y_ij)\n",
    "    where Y_ij is user i's rating on movie j, learns an\n",
    "    M x K matrix U and N x K matrix V such that rating Y_ij is approximated\n",
    "    by (UV^T)_ij.\n",
    "\n",
    "    Uses a learning rate of <eta> and regularization of <reg>. Stops after\n",
    "    <max_epochs> epochs, or once the magnitude of the decrease in regularized\n",
    "    MSE between epochs is smaller than a fraction <eps> of the decrease in\n",
    "    MSE after the first epoch.\n",
    "\n",
    "    Returns a tuple (U, V, err) consisting of U, V, and the unregularized MSE\n",
    "    of the model.\n",
    "    \"\"\"\n",
    "\n",
    "    \n",
    "    # Create U and V arrays\n",
    "    U = (np.random.uniform(-0.5, 0.5, (M, K)))\n",
    "\n",
    "    V = (np.random.uniform(-0.5, 0.5, (N, K)))\n",
    "    \n",
    "\n",
    "    indices = list(range(0, len(Y)))\n",
    "    init_error = get_err_without_bias(U, V, Y, reg)\n",
    "    \n",
    "    for epoch in range(0, max_epochs):\n",
    "        print(\"epoch = \", epoch)\n",
    "        \n",
    "        # Shuffle the points, so that in random order, \n",
    "        # iterate through all points and update\n",
    "        # the weight vector. \n",
    "\n",
    "        indices = np.random.permutation(indices)\n",
    "\n",
    "        for m in range(0, len(indices)):\n",
    "            i = Y[indices[m]][0] - 1\n",
    "            j = Y[indices[m]][1] - 1\n",
    "            Yij = Y[indices[m]][2]\n",
    "        \n",
    "        #calculate the gradient and update model parameters\n",
    "            gradU = grad_U_without_bias(U[i], Yij, V[j], reg, eta)\n",
    "            gradV = grad_V_without_bias(V[j], Yij, U[i], reg, eta)\n",
    "            U[i] = U[i] - gradU\n",
    "            V[j] = V[j] - gradV\n",
    "        \n",
    "        new_error = get_err_without_bias(U, V, Y, reg)\n",
    "\n",
    "        if epoch == 0:\n",
    "            first_reduction = init_error - new_error;\n",
    "            old_error = new_error\n",
    "\n",
    "        else:\n",
    "            if np.abs((old_error - new_error)/first_reduction) <= eps:\n",
    "                break\n",
    "            else:\n",
    "                old_error = new_error\n",
    "\n",
    "    return U, V, new_error"
   ]
  },
  {
   "cell_type": "code",
   "execution_count": 170,
   "metadata": {},
   "outputs": [
    {
     "name": "stdout",
     "output_type": "stream",
     "text": [
      "6.89669229598\n",
      "epoch =  0\n",
      "0.632532150491\n",
      "epoch =  1\n",
      "0.57506428805\n",
      "epoch =  2\n",
      "0.57641693411\n",
      "epoch =  3\n",
      "0.545028810938\n",
      "epoch =  4\n",
      "0.535890318607\n",
      "epoch =  5\n",
      "0.564251372469\n",
      "epoch =  6\n",
      "0.529626531541\n",
      "epoch =  7\n",
      "0.543106148318\n",
      "epoch =  8\n",
      "0.520120309693\n",
      "epoch =  9\n",
      "0.50489651794\n",
      "epoch =  10\n",
      "0.528098072019\n",
      "epoch =  11\n",
      "0.526082308481\n",
      "epoch =  12\n",
      "0.50823585515\n",
      "epoch =  13\n",
      "0.525053169951\n",
      "epoch =  14\n",
      "0.523201276588\n",
      "epoch =  15\n",
      "0.520636633572\n",
      "epoch =  16\n",
      "0.509869407478\n",
      "epoch =  17\n",
      "0.525975802696\n",
      "epoch =  18\n",
      "0.503565722233\n",
      "epoch =  19\n",
      "0.510756348591\n",
      "epoch =  20\n",
      "0.521680495355\n",
      "epoch =  21\n",
      "0.51621580912\n",
      "epoch =  22\n",
      "0.524757885774\n",
      "epoch =  23\n",
      "0.494922650069\n",
      "epoch =  24\n",
      "0.511103075602\n",
      "epoch =  25\n",
      "0.507796902419\n",
      "epoch =  26\n",
      "0.541321226228\n",
      "epoch =  27\n",
      "0.513783412192\n",
      "epoch =  28\n",
      "0.524781527058\n",
      "epoch =  29\n",
      "0.522638916155\n",
      "epoch =  30\n",
      "0.512927576646\n",
      "epoch =  31\n",
      "0.500040813054\n",
      "epoch =  32\n",
      "0.50385886399\n",
      "epoch =  33\n",
      "0.51898505155\n",
      "epoch =  34\n",
      "0.514344112517\n",
      "epoch =  35\n",
      "0.511578497574\n",
      "epoch =  36\n",
      "0.507988732499\n",
      "epoch =  37\n",
      "0.497021568468\n",
      "epoch =  38\n",
      "0.511596962321\n",
      "epoch =  39\n",
      "0.501977806915\n",
      "epoch =  40\n",
      "0.51589197794\n",
      "epoch =  41\n",
      "0.508863208672\n",
      "epoch =  42\n",
      "0.520132170682\n",
      "epoch =  43\n",
      "0.513692214285\n",
      "epoch =  44\n",
      "0.50835442754\n",
      "epoch =  45\n",
      "0.510866576351\n",
      "epoch =  46\n",
      "0.522943739136\n",
      "epoch =  47\n",
      "0.53219649453\n",
      "epoch =  48\n",
      "0.501933551562\n",
      "epoch =  49\n",
      "0.502279192412\n"
     ]
    }
   ],
   "source": [
    "U, V, new_error = train_model_without_bias(943, 1682, 10, 0.1, 0, train, 0.0001, 300)"
   ]
  },
  {
   "cell_type": "code",
   "execution_count": 176,
   "metadata": {},
   "outputs": [
    {
     "name": "stdout",
     "output_type": "stream",
     "text": [
      "(943, 10)\n"
     ]
    }
   ],
   "source": [
    "print(U.shape)"
   ]
  },
  {
   "cell_type": "markdown",
   "metadata": {},
   "source": [
    "2 Train with matrix factorization with bias."
   ]
  },
  {
   "cell_type": "markdown",
   "metadata": {
    "collapsed": true
   },
   "source": [
    "Attempt3"
   ]
  },
  {
   "cell_type": "markdown",
   "metadata": {},
   "source": [
    "3 Using an Off-the-Shelf Implementation from SkLearn, train using the sklearn implementation of matrix factorization."
   ]
  },
  {
   "cell_type": "code",
   "execution_count": 376,
   "metadata": {
    "collapsed": true
   },
   "outputs": [],
   "source": [
    "import sklearn \n",
    "from sklearn.decomposition import NMF"
   ]
  },
  {
   "cell_type": "code",
   "execution_count": 377,
   "metadata": {},
   "outputs": [],
   "source": [
    "k = 20\n",
    "model = NMF(n_components = k)\n",
    "W = model.fit_transform(training_matrix)\n",
    "H = model.components_"
   ]
  },
  {
   "cell_type": "code",
   "execution_count": 378,
   "metadata": {},
   "outputs": [
    {
     "name": "stdout",
     "output_type": "stream",
     "text": [
      "[[ 0.56748619  0.          0.         ...,  0.31327909  0.          0.        ]\n",
      " [ 0.          0.16681713  0.         ...,  0.16854541  0.          0.06491939]\n",
      " [ 0.02268302  0.          0.         ...,  0.0662056   0.          0.        ]\n",
      " ..., \n",
      " [ 0.          0.08982744  0.         ...,  0.35158032  0.          0.        ]\n",
      " [ 0.31296633  0.00360943  0.         ...,  0.          0.23287615\n",
      "   0.04389609]\n",
      " [ 0.38146196  0.03767428  0.         ...,  0.13078245  0.02114925  0.        ]]\n",
      "(943, 20)\n"
     ]
    }
   ],
   "source": [
    "# Print U\n",
    "print(W)\n",
    "print(W.shape)"
   ]
  },
  {
   "cell_type": "code",
   "execution_count": 379,
   "metadata": {},
   "outputs": [
    {
     "name": "stdout",
     "output_type": "stream",
     "text": [
      "[[ 0.39624665  0.          0.11621941 ...,  0.          0.03580806\n",
      "   0.00871677]\n",
      " [ 2.15687899  0.          0.00522055 ...,  0.          0.          0.        ]\n",
      " [ 0.          0.          0.11131858 ...,  0.          0.          0.02109955]\n",
      " ..., \n",
      " [ 1.02134438  0.          1.13342066 ...,  0.          0.          0.        ]\n",
      " [ 0.17706643  0.          0.         ...,  0.          0.          0.        ]\n",
      " [ 0.48779247  0.23702976  0.         ...,  0.          0.00361328  0.        ]]\n",
      "(20, 1682)\n"
     ]
    }
   ],
   "source": [
    "# Print V\n",
    "print(H)\n",
    "print(H.shape)"
   ]
  },
  {
   "cell_type": "code",
   "execution_count": 380,
   "metadata": {},
   "outputs": [],
   "source": [
    "fitted = model.inverse_transform(model.transform(training_matrix))\n",
    "count = 0\n",
    "for user, movie, rating in train:\n",
    "    \n",
    "    if(training_matrix[user-1][movie-1]!= int(fitted[user-1][movie-1])):\n",
    "        count += 1\n",
    "    #print(rating)\n",
    "    \n",
    "# print(\"count = \", count)\n",
    "# print(\"error = \", count/len(train))"
   ]
  },
  {
   "cell_type": "code",
   "execution_count": 381,
   "metadata": {},
   "outputs": [
    {
     "name": "stdout",
     "output_type": "stream",
     "text": [
      "[[  4.18482904e+00   1.78563963e+00   1.27301419e+00 ...,   0.00000000e+00\n",
      "    3.06385538e-02   3.11417607e-02]\n",
      " [  1.92244669e+00   2.73508771e-02   1.92525630e-01 ...,   1.34816636e-02\n",
      "    1.15665340e-03   0.00000000e+00]\n",
      " [  2.43926184e-01   5.83090804e-03   8.07209823e-02 ...,   2.16433543e-02\n",
      "    1.00041686e-03   1.64157370e-03]\n",
      " ..., \n",
      " [  1.95791894e+00   7.83789779e-02   3.98663459e-01 ...,   2.23691105e-04\n",
      "    1.35583392e-03   6.83913958e-04]\n",
      " [  1.19756146e+00   4.53961274e-02   3.62345073e-02 ...,   1.42984193e-02\n",
      "    1.20966989e-02   2.71620961e-03]\n",
      " [  8.01047313e-01   1.91522342e+00   9.59551501e-01 ...,   0.00000000e+00\n",
      "    2.68512287e-02   1.03104349e-02]]\n",
      "\n"
     ]
    }
   ],
   "source": [
    "print(fitted)\n",
    "print()"
   ]
  },
  {
   "cell_type": "markdown",
   "metadata": {},
   "source": [
    "1 Apply SVD"
   ]
  },
  {
   "cell_type": "code",
   "execution_count": 382,
   "metadata": {},
   "outputs": [
    {
     "name": "stdout",
     "output_type": "stream",
     "text": [
      "(20, 20)\n",
      "(20, 1682)\n"
     ]
    }
   ],
   "source": [
    "#U, V, error = train_model_without_bias(943, 1682, 10, 0.1, 0, train, 0.0001, 300)\n",
    "U = W\n",
    "V = H\n",
    "u1, s1, v1 = np.linalg.svd(U, full_matrices = False)\n",
    "u2, s2, v2 = np.linalg.svd(V, full_matrices = False)\n",
    "print(u2.shape)\n",
    "print(v2.shape)"
   ]
  },
  {
   "cell_type": "code",
   "execution_count": 394,
   "metadata": {},
   "outputs": [],
   "source": [
    "import nimfa\n",
    "\n",
    "pmf = nimfa.Bmf(training_matrix, seed=\"random_vcol\", rank=20, max_iter=12, rel_error=1e-5)\n",
    "pmf_fit = pmf()"
   ]
  },
  {
   "cell_type": "code",
   "execution_count": 395,
   "metadata": {},
   "outputs": [
    {
     "name": "stdout",
     "output_type": "stream",
     "text": [
      "(943, 20)\n",
      "(20, 1682)\n",
      "(20, 20)\n",
      "(20, 1682)\n"
     ]
    }
   ],
   "source": [
    "print(pmf_fit.basis().shape)\n",
    "print(pmf_fit.coef().shape)\n",
    "\n",
    "U = pmf_fit.basis()\n",
    "V = pmf_fit.coef()\n",
    "\n",
    "u1, s1, v1 = np.linalg.svd(U, full_matrices = False)\n",
    "u2, s2, v2 = np.linalg.svd(V, full_matrices = False)\n",
    "print(u2.shape)\n",
    "print(v2.shape)"
   ]
  },
  {
   "cell_type": "code",
   "execution_count": 396,
   "metadata": {},
   "outputs": [
    {
     "name": "stdout",
     "output_type": "stream",
     "text": [
      "[[-0.06685239  0.01545197]\n",
      " [-0.01758371 -0.07193813]\n",
      " [-0.00822628 -0.04351909]\n",
      " ..., \n",
      " [-0.00968521 -0.03332106]\n",
      " [-0.02486861  0.00014854]\n",
      " [-0.0413601   0.02030304]]\n",
      "[[-0.22178597 -0.03996658]\n",
      " [-0.22051896 -0.00282018]\n",
      " [-0.20881181  0.17373239]\n",
      " [-0.22392743  0.12140782]\n",
      " [-0.2421878  -0.02989605]\n",
      " [-0.20709795  0.01696444]\n",
      " [-0.21298381  0.04576759]\n",
      " [-0.2207531  -0.07002041]\n",
      " [-0.25385847  0.28726588]\n",
      " [-0.22212979  0.01011657]\n",
      " [-0.23035027  0.0687046 ]\n",
      " [-0.23747376  0.15207662]\n",
      " [-0.21180208  0.17139963]\n",
      " [-0.22807335  0.12088898]\n",
      " [-0.21097338 -0.11947226]\n",
      " [-0.2138101   0.15316914]\n",
      " [-0.22493279 -0.46422413]\n",
      " [-0.22095902 -0.72717285]\n",
      " [-0.22098109  0.00077088]\n",
      " [-0.23281922  0.0938605 ]]\n"
     ]
    }
   ],
   "source": [
    "two_columns_U = np.array(u1[:, :2])\n",
    "print(two_columns_U)\n",
    "\n",
    "two_columns_V = np.array(u2[:, :2])\n",
    "print(two_columns_V)"
   ]
  },
  {
   "cell_type": "code",
   "execution_count": 397,
   "metadata": {},
   "outputs": [
    {
     "name": "stdout",
     "output_type": "stream",
     "text": [
      "-0.560132373557\n"
     ]
    }
   ],
   "source": [
    "U_tilda = np.dot(two_columns_U.transpose(), U)\n",
    "V_tilda = np.dot(two_columns_V.transpose(), V)\n",
    "\n",
    "U_tilda = np.array(U_tilda)\n",
    "V_tilda = np.array(V_tilda)\n",
    "\n",
    "print(V_tilda[0][49])"
   ]
  },
  {
   "cell_type": "code",
   "execution_count": 398,
   "metadata": {},
   "outputs": [
    {
     "name": "stdout",
     "output_type": "stream",
     "text": [
      "(2, 20)\n",
      "(2, 1682)\n",
      "-30.3480890012\n"
     ]
    }
   ],
   "source": [
    "print(U_tilda.shape)\n",
    "print(V_tilda.shape)\n",
    "print(U_tilda[0][0])"
   ]
  },
  {
   "cell_type": "code",
   "execution_count": 353,
   "metadata": {},
   "outputs": [
    {
     "name": "stdout",
     "output_type": "stream",
     "text": [
      "done 1\n",
      "done 2\n"
     ]
    }
   ],
   "source": [
    "training_matrix = np.zeros((943, 1682))\n",
    "\n",
    "    \n",
    "print(\"done 1\")\n",
    "\n",
    "for user, movie, rating in train:\n",
    "    training_matrix[user-1][movie-1] = rating\n",
    "    #print(rating)\n",
    "    \n",
    "print(\"done 2\")"
   ]
  },
  {
   "cell_type": "code",
   "execution_count": 354,
   "metadata": {},
   "outputs": [
    {
     "name": "stdout",
     "output_type": "stream",
     "text": [
      "(943, 1682)\n"
     ]
    }
   ],
   "source": [
    "print(training_matrix.shape)"
   ]
  },
  {
   "cell_type": "code",
   "execution_count": 399,
   "metadata": {},
   "outputs": [
    {
     "data": {
      "image/png": "[encoded data removed]",
      "text/plain": [
       "<matplotlib.figure.Figure at 0x1a315b5470>"
      ]
     },
     "metadata": {},
     "output_type": "display_data"
    }
   ],
   "source": [
    "plt.plot([V_tilda[0][49]], [V_tilda[1][49]], 'o', markersize=10, label='Star Wars')\n",
    "plt.plot([V_tilda[0][81]], [V_tilda[1][81]], 'o', markersize=10, label='Jurassic Park')\n",
    "plt.plot([V_tilda[0][251]], [V_tilda[1][251]], 'o', markersize=10, \\\n",
    "         label='Jurassic Park Lost World')\n",
    "plt.plot([V_tilda[0][451]], [V_tilda[1][451]], 'o', markersize=10, label='Jaws II')\n",
    "plt.plot([V_tilda[0][402]], [V_tilda[1][402]], 'o', markersize=10, \\\n",
    "         label='Batman')\n",
    "plt.plot([V_tilda[0][55]], [V_tilda[1][55]], 'o', markersize=10, label='Pulp Fiction')\n",
    "plt.plot([V_tilda[0][63]], [V_tilda[1][63]], 'o', markersize=10, \\\n",
    "         label='Shawshank Redemption')\n",
    "plt.plot([V_tilda[0][448]], [V_tilda[1][448]], 'o', markersize=10, label='Star Trek \\\n",
    "The Motion Picture')\n",
    "plt.plot([V_tilda[0][233]], [V_tilda[1][233]], 'o', markersize=10, label='Jaws')\n",
    "plt.plot([V_tilda[0][230]], [V_tilda[1][230]], 'o', markersize=10, label='Batman Returns')\n",
    "\n",
    "plt.legend(loc=2, bbox_to_anchor=(1.05, 1))\n",
    "plt.show()"
   ]
  },
  {
   "cell_type": "code",
   "execution_count": 400,
   "metadata": {},
   "outputs": [
    {
     "data": {
      "image/png": "[encoded data removed]",
      "text/plain": [
       "<matplotlib.figure.Figure at 0x1a315c2080>"
      ]
     },
     "metadata": {},
     "output_type": "display_data"
    }
   ],
   "source": [
    "for element in movies:\n",
    "    index = int(element[0])\n",
    "    label = movies[index - 1][1]\n",
    "    plt.plot(V_tilda[0][index - 1], V_tilda[1][index - 1], 'o', markersize = 1, label = label)\n",
    "    \n",
    "plt.show()\n",
    "    "
   ]
  },
  {
   "cell_type": "code",
   "execution_count": null,
   "metadata": {
    "collapsed": true
   },
   "outputs": [],
   "source": []
  }
 ],
 "metadata": {
  "kernelspec": {
   "display_name": "Python 3",
   "language": "python",
   "name": "python3"
  },
  "language_info": {
   "codemirror_mode": {
    "name": "ipython",
    "version": 3
   },
   "file_extension": ".py",
   "mimetype": "text/x-python",
   "name": "python",
   "nbconvert_exporter": "python",
   "pygments_lexer": "ipython3",
   "version": "3.6.3"
  }
 },
 "nbformat": 4,
 "nbformat_minor": 2
}
