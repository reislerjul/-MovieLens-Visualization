{
 "cells": [
  {
   "cell_type": "code",
   "execution_count": 1,
   "metadata": {
    "collapsed": true
   },
   "outputs": [],
   "source": [
    "import numpy as np\n",
    "import matplotlib.pyplot as plt"
   ]
  },
  {
   "cell_type": "markdown",
   "metadata": {},
   "source": [
    "## 4 Basic Visualizations"
   ]
  },
  {
   "cell_type": "markdown",
   "metadata": {},
   "source": [
    "Load in each data file:"
   ]
  },
  {
   "cell_type": "code",
   "execution_count": 47,
   "metadata": {
    "collapsed": true
   },
   "outputs": [],
   "source": [
    "data = np.loadtxt('data/data.txt', skiprows=0, delimiter='\\t', dtype='int')\n",
    "test = np.loadtxt('data/test.txt', skiprows=0, delimiter='\\t', dtype='int')\n",
    "train = np.loadtxt('data/train.txt', skiprows=0, delimiter='\\t', dtype='int')\n",
    "movies = np.loadtxt('data/movies.txt', skiprows=0, delimiter='\\t', dtype='str')"
   ]
  },
  {
   "cell_type": "markdown",
   "metadata": {},
   "source": [
    "### 1"
   ]
  },
  {
   "cell_type": "markdown",
   "metadata": {},
   "source": [
    "Create a histogram of all the ratings in the dataset. First, put all the ratings into a list and then plot. "
   ]
  },
  {
   "cell_type": "code",
   "execution_count": 48,
   "metadata": {},
   "outputs": [
    {
     "data": {
      "image/png": "[encoded data removed]",
      "text/plain": [
       "<matplotlib.figure.Figure at 0x10ca10be0>"
      ]
     },
     "metadata": {},
     "output_type": "display_data"
    }
   ],
   "source": [
    "ratings = []\n",
    "for element in data:\n",
    "    ratings.append(int(element[2]))\n",
    "\n",
    "plt.hist(ratings, normed=True, histtype='stepfilled', alpha=0.2, label='ratings')\n",
    "plt.title('Ratings')\n",
    "plt.show()"
   ]
  },
  {
   "cell_type": "markdown",
   "metadata": {},
   "source": [
    "### 2"
   ]
  },
  {
   "cell_type": "markdown",
   "metadata": {},
   "source": [
    "First, we will determine the 10 most popular movies. To do this, we will go through the data dataset and determine the number of ratings that each movie has received"
   ]
  },
  {
   "cell_type": "code",
   "execution_count": 49,
   "metadata": {
    "collapsed": true
   },
   "outputs": [],
   "source": [
    "totalRatings = {}\n",
    "for element in data:\n",
    "    if element[1] in totalRatings:\n",
    "        totalRatings[element[1]] += 1\n",
    "    else:\n",
    "        totalRatings[element[1]] = 1"
   ]
  },
  {
   "cell_type": "markdown",
   "metadata": {},
   "source": [
    "Now, convert the dictionary to a list and sort by the number of ratings:"
   ]
  },
  {
   "cell_type": "code",
   "execution_count": 50,
   "metadata": {
    "collapsed": true
   },
   "outputs": [],
   "source": [
    "ratingList = []\n",
    "\n",
    "for item in totalRatings.items():\n",
    "    ratingList.append(item)\n",
    "    \n",
    "ratingList.sort(key=lambda x: x[1], reverse=True)"
   ]
  },
  {
   "cell_type": "markdown",
   "metadata": {},
   "source": [
    "Print out the 10 most popular movies:"
   ]
  },
  {
   "cell_type": "code",
   "execution_count": 51,
   "metadata": {},
   "outputs": [
    {
     "data": {
      "text/plain": [
       "[(50, 583),\n",
       " (258, 509),\n",
       " (100, 508),\n",
       " (181, 507),\n",
       " (294, 485),\n",
       " (286, 481),\n",
       " (288, 478),\n",
       " (1, 452),\n",
       " (300, 431),\n",
       " (121, 429)]"
      ]
     },
     "execution_count": 51,
     "metadata": {},
     "output_type": "execute_result"
    }
   ],
   "source": [
    "ratingList[:10]"
   ]
  },
  {
   "cell_type": "markdown",
   "metadata": {},
   "source": [
    "Create a dictionary for the ten most popular movies, find all the ratings, and plot as a histogram:"
   ]
  },
  {
   "cell_type": "code",
   "execution_count": 52,
   "metadata": {},
   "outputs": [
    {
     "data": {
      "image/png": "[encoded data removed]",
      "text/plain": [
       "<matplotlib.figure.Figure at 0x115d12a58>"
      ]
     },
     "metadata": {},
     "output_type": "display_data"
    }
   ],
   "source": [
    "popular = {}\n",
    "for item in ratingList[:10]:\n",
    "    popular[item[0]] = True\n",
    "    \n",
    "popularRatings = []\n",
    "for element in data:\n",
    "    if element[1] in popular:\n",
    "        popularRatings.append(int(element[2]))\n",
    "\n",
    "plt.hist(popularRatings, normed=True, histtype='stepfilled', alpha=0.2, label='ratings')\n",
    "plt.title('Ratings of 10 Most Popular Movies')\n",
    "plt.show()"
   ]
  },
  {
   "cell_type": "markdown",
   "metadata": {},
   "source": [
    "### 3"
   ]
  },
  {
   "cell_type": "markdown",
   "metadata": {},
   "source": [
    "Find the average ratings of each movie and sort a list by the best rated:"
   ]
  },
  {
   "cell_type": "code",
   "execution_count": 53,
   "metadata": {
    "collapsed": true
   },
   "outputs": [],
   "source": [
    "avgRatings = {}\n",
    "for element in data:\n",
    "    if element[1] in avgRatings:\n",
    "        avgRatings[element[1]][0] += int(element[2])\n",
    "        avgRatings[element[1]][1] += 1\n",
    "    else:\n",
    "        avgRatings[element[1]] = [int(element[2]), 1]\n",
    "\n",
    "        \n",
    "avgRatingList = []\n",
    "\n",
    "for key, value in avgRatings.items():\n",
    "    avgRatingList.append((key, value[0] / float(value[1])))\n",
    "    \n",
    "avgRatingList.sort(key=lambda x: x[1], reverse=True)"
   ]
  },
  {
   "cell_type": "markdown",
   "metadata": {},
   "source": [
    "Print out the 10 best rated movies:"
   ]
  },
  {
   "cell_type": "code",
   "execution_count": 54,
   "metadata": {},
   "outputs": [
    {
     "data": {
      "text/plain": [
       "[(1189, 5.0),\n",
       " (1500, 5.0),\n",
       " (814, 5.0),\n",
       " (1536, 5.0),\n",
       " (1293, 5.0),\n",
       " (1599, 5.0),\n",
       " (1653, 5.0),\n",
       " (1467, 5.0),\n",
       " (1122, 5.0),\n",
       " (1201, 5.0)]"
      ]
     },
     "execution_count": 54,
     "metadata": {},
     "output_type": "execute_result"
    }
   ],
   "source": [
    "avgRatingList[:10]"
   ]
  },
  {
   "cell_type": "markdown",
   "metadata": {},
   "source": [
    "Create a dictionary for the ten best rated movies, find all the ratings, and plot as a histogram:"
   ]
  },
  {
   "cell_type": "code",
   "execution_count": 55,
   "metadata": {},
   "outputs": [
    {
     "data": {
      "image/png": "[encoded data removed]",
      "text/plain": [
       "<matplotlib.figure.Figure at 0x115d28128>"
      ]
     },
     "metadata": {},
     "output_type": "display_data"
    }
   ],
   "source": [
    "best = {}\n",
    "for item in avgRatingList[:10]:\n",
    "    best[item[0]] = True\n",
    "    \n",
    "bestRatings = []\n",
    "for element in data:\n",
    "    if element[1] in best:\n",
    "        bestRatings.append(int(element[2]))\n",
    "\n",
    "plt.hist(bestRatings, normed=True, histtype='stepfilled', alpha=0.2, label='ratings')\n",
    "plt.title('Ratings of 10 Best Rated Movies')\n",
    "plt.show()"
   ]
  },
  {
   "cell_type": "markdown",
   "metadata": {},
   "source": [
    "### 4"
   ]
  },
  {
   "cell_type": "markdown",
   "metadata": {},
   "source": [
    "We choose to do the genres Comedy, Western, and Romance."
   ]
  },
  {
   "cell_type": "code",
   "execution_count": 59,
   "metadata": {},
   "outputs": [
    {
     "name": "stdout",
     "output_type": "stream",
     "text": [
      "['1' 'Toy Story (1995)' '0' '0' '0' '1' '1' '1' '0' '0' '0' '0' '0' '0' '0'\n",
      " '0' '0' '0' '0' '0' '0']\n"
     ]
    }
   ],
   "source": [
    "print(movies[0])"
   ]
  },
  {
   "cell_type": "markdown",
   "metadata": {},
   "source": [
    "Find all the movies that are comedy, western, and/or romance:"
   ]
  },
  {
   "cell_type": "code",
   "execution_count": 60,
   "metadata": {
    "collapsed": true
   },
   "outputs": [],
   "source": [
    "genres = {'Comedy':[], 'Western':[], 'Animation':[]}\n",
    "for movie in movies:\n",
    "    if movie[7] == '1':\n",
    "        genres['Comedy'].append(int(movie[0]))\n",
    "    if movie[20] == '1':\n",
    "        genres['Western'].append(int(movie[0]))\n",
    "    if movie[16] == '1':\n",
    "        genres['Animation'].append(int(movie[0]))"
   ]
  },
  {
   "cell_type": "markdown",
   "metadata": {},
   "source": [
    "For the movies in each category, find all the ratings and plot a histogram:"
   ]
  },
  {
   "cell_type": "code",
   "execution_count": 61,
   "metadata": {},
   "outputs": [
    {
     "data": {
      "image/png": "[encoded data removed]",
      "text/plain": [
       "<matplotlib.figure.Figure at 0x115b0ee48>"
      ]
     },
     "metadata": {},
     "output_type": "display_data"
    },
    {
     "data": {
      "image/png": "[encoded data removed]",
      "text/plain": [
       "<matplotlib.figure.Figure at 0x10bab5160>"
      ]
     },
     "metadata": {},
     "output_type": "display_data"
    },
    {
     "data": {
      "image/png": "[encoded data removed]",
      "text/plain": [
       "<matplotlib.figure.Figure at 0x115aafac8>"
      ]
     },
     "metadata": {},
     "output_type": "display_data"
    }
   ],
   "source": [
    "for genre in genres.keys():\n",
    "    genre_ratings = []\n",
    "    temp = genres[genre]\n",
    "    for element in data:\n",
    "        if element[1] in temp:\n",
    "            genre_ratings.append(int(element[2]))\n",
    "    title = genre + ' Ratings'\n",
    "    plt.hist(genre_ratings, normed=True, histtype='stepfilled', alpha=0.2, label='ratings')\n",
    "    plt.title(title)\n",
    "    plt.show()"
   ]
  },
  {
   "cell_type": "markdown",
   "metadata": {
    "collapsed": true
   },
   "source": [
    "### 5 Matrix Factorization Visualizations"
   ]
  },
  {
   "cell_type": "markdown",
   "metadata": {},
   "source": [
    "### Part 1"
   ]
  },
  {
   "cell_type": "markdown",
   "metadata": {},
   "source": [
    "Below is my code from Homework 5:"
   ]
  },
  {
   "cell_type": "code",
   "execution_count": 64,
   "metadata": {
    "collapsed": true
   },
   "outputs": [],
   "source": [
    "import numpy as np\n",
    "\n",
    "def grad_U(Ui, Yij, Vj, reg, eta):\n",
    "    \"\"\"\n",
    "    Takes as input Ui (the ith row of U), a training point Yij, the column\n",
    "    vector Vj (jth column of V^T), reg (the regularization parameter lambda),\n",
    "    and eta (the learning rate).\n",
    "\n",
    "    Returns the gradient of the regularized loss function with\n",
    "    respect to Ui multiplied by eta.\n",
    "    \"\"\"\n",
    "    return eta * (reg * Ui - np.dot(Vj, (Yij - np.dot(Ui, Vj))))\n",
    "       \n",
    "def grad_V(Vj, Yij, Ui, reg, eta):\n",
    "    \"\"\"\n",
    "    Takes as input the column vector Vj (jth column of V^T), a training point Yij,\n",
    "    Ui (the ith row of U), reg (the regularization parameter lambda),\n",
    "    and eta (the learning rate).\n",
    "\n",
    "    Returns the gradient of the regularized loss function with\n",
    "    respect to Vj multiplied by eta.\n",
    "    \"\"\"\n",
    "    return eta * (reg * Vj - np.dot(Ui, (Yij - np.dot(Ui, Vj))))\n",
    "\n",
    "def get_err(U, V, Y, reg=0.1):\n",
    "    \"\"\"\n",
    "    Takes as input a matrix Y of triples (i, j, Y_ij) where i is the index of a user,\n",
    "    j is the index of a movie, and Y_ij is user i's rating of movie j and\n",
    "    user/movie matrices U and V.\n",
    "\n",
    "    Returns the mean regularized squared-error of predictions made by\n",
    "    estimating Y_{ij} as the dot product of the ith row of U and the jth column of V^T.\n",
    "    \"\"\"\n",
    "    \n",
    "    # Sum of the squared loss\n",
    "    summation = 0\n",
    "    for element in Y:\n",
    "        i = element[0]\n",
    "        j = element[1]\n",
    "        Y_ij = element[2]\n",
    "        summation += ((Y_ij - np.dot(U[i - 1], V[j - 1])) ** 2)\n",
    "    \n",
    "    # Norm squared U \n",
    "    fro_U = 0\n",
    "    for x in range(len(U)):\n",
    "        for y in range(len(U[0])):\n",
    "            fro_U += (U[x][y] ** 2)\n",
    "\n",
    "    # Norm squared V \n",
    "    fro_V = 0\n",
    "    for x in range(len(V)):\n",
    "        for y in range(len(V[0])):\n",
    "            fro_V += (V[x][y] ** 2)\n",
    "    \n",
    "    # Divide by the length of Y since its mean squared error\n",
    "    return ((reg / 2) * (fro_U + fro_V) + 0.5 * summation) / len(Y)\n",
    "\n",
    "def train_model(M, N, K, eta, reg, Y, eps=0.0001, max_epochs=300):\n",
    "    \"\"\"\n",
    "    Given a training data matrix Y containing rows (i, j, Y_ij)\n",
    "    where Y_ij is user i's rating on movie j, learns an\n",
    "    M x K matrix U and N x K matrix V such that rating Y_ij is approximated\n",
    "    by (UV^T)_ij.\n",
    "\n",
    "    Uses a learning rate of <eta> and regularization of <reg>. Stops after\n",
    "    <max_epochs> epochs, or once the magnitude of the decrease in regularized\n",
    "    MSE between epochs is smaller than a fraction <eps> of the decrease in\n",
    "    MSE after the first epoch.\n",
    "\n",
    "    Returns a tuple (U, V, err) consisting of U, V, and the unregularized MSE\n",
    "    of the model.\n",
    "    \"\"\"\n",
    "    \n",
    "    U = []\n",
    "    V = []\n",
    "    \n",
    "    # Initialize the U and V matrixes\n",
    "    for i in range(M):\n",
    "        temp = []\n",
    "        for j in range(K):\n",
    "            temp.append(np.random.uniform(-0.5, 0.5))\n",
    "        U.append(temp)\n",
    "        \n",
    "    for i in range(N):\n",
    "        temp = []\n",
    "        for j in range(K):\n",
    "            temp.append(np.random.uniform(-0.5, 0.5))\n",
    "        V.append(temp)   \n",
    "    U = np.array(U)\n",
    "    V = np.array(V)\n",
    "    \n",
    "    # Now, run the algorithm\n",
    "    loss_reduct_0 = 0\n",
    "    loss_prev = get_err(U, V, Y)\n",
    "    for i in range(max_epochs):\n",
    "        \n",
    "        # Shuffle order of datapoints\n",
    "        indices = np.random.permutation(len(Y))\n",
    "        for index in indices:\n",
    "            \n",
    "            # Update U using the ith row of U. The data is 1 indexed so we must change this to \n",
    "            # 0 indexed\n",
    "            U[Y[index][0] - 1] = U[Y[index][0] - 1] - grad_U(U[Y[index][0] - 1], Y[index][2], V[Y[index][1] - 1], reg, eta)\n",
    "            \n",
    "            # Update V using the jth column of V\n",
    "            V[Y[index][1] - 1] = V[Y[index][1] - 1] - grad_V(V[Y[index][1] - 1], Y[index][2], U[Y[index][0] - 1], reg, eta)\n",
    "\n",
    "        if i == 0:\n",
    "            loss_reduct_0 = loss_prev - get_err(U, V, Y)\n",
    "        \n",
    "        if (loss_prev - get_err(U, V, Y)) / loss_reduct_0 <= eps:\n",
    "            break\n",
    "            \n",
    "        loss_prev = get_err(U, V, Y)\n",
    "    \n",
    "    # Calculate mean unregularized error\n",
    "    summation = 0\n",
    "    for element in Y:\n",
    "        i = element[0]\n",
    "        j = element[1]\n",
    "        Y_ij = element[2]\n",
    "        summation += ((Y_ij - np.dot(U[i - 1], V[j - 1])) ** 2)\n",
    "        \n",
    "    return (U, V, summation / (2 * len(Y)))"
   ]
  },
  {
   "cell_type": "markdown",
   "metadata": {},
   "source": [
    "We will use a regularization parameter of $\\lambda=0.1$ since this performed best on the test set in the homework. Our stop criteria will be 300 epochs since this is probably enough epochs to converge if the model is able to converge to a particular value, and our other stop condition will be if the change over an epoch is very small relative to the change over the first epoch, which indicates that the model has basically converged. Use 0.03 for the learning rate as it is small enough for gradient descent to approach a global minimum but large enough that it doesn't take too many epoches to converge."
   ]
  },
  {
   "cell_type": "markdown",
   "metadata": {},
   "source": [
    "First, run matrix factorization to get values of U and V"
   ]
  },
  {
   "cell_type": "code",
   "execution_count": 65,
   "metadata": {},
   "outputs": [],
   "source": [
    "M = 943\n",
    "N = 1682\n",
    "\n",
    "Y = train\n",
    "U,V, err = train_model(M, N, 20, 0.03, 0.1, Y)"
   ]
  },
  {
   "cell_type": "markdown",
   "metadata": {},
   "source": [
    "#### 1)"
   ]
  },
  {
   "cell_type": "markdown",
   "metadata": {},
   "source": [
    "Apply SVD:"
   ]
  },
  {
   "cell_type": "code",
   "execution_count": 93,
   "metadata": {
    "collapsed": true
   },
   "outputs": [],
   "source": [
    "A, Sigma, B = np.linalg.svd(np.transpose(V))\n",
    "A_u, Sigma_u, B_u = np.linalg.svd(np.transpose(U))"
   ]
  },
  {
   "cell_type": "markdown",
   "metadata": {},
   "source": [
    "Now, get $U_{tilda}$ and $V_{tilda}$."
   ]
  },
  {
   "cell_type": "code",
   "execution_count": 100,
   "metadata": {},
   "outputs": [],
   "source": [
    "U_tilda = np.dot(np.transpose(A_u[:,:2]), np.transpose(U))\n",
    "V_tilda = np.dot(np.transpose(A[:,:2]), np.transpose(V))"
   ]
  },
  {
   "cell_type": "code",
   "execution_count": 101,
   "metadata": {},
   "outputs": [
    {
     "data": {
      "text/plain": [
       "(2, 1682)"
      ]
     },
     "execution_count": 101,
     "metadata": {},
     "output_type": "execute_result"
    }
   ],
   "source": [
    "np.shape(V_tilda)"
   ]
  },
  {
   "cell_type": "code",
   "execution_count": 102,
   "metadata": {},
   "outputs": [
    {
     "data": {
      "text/plain": [
       "(2, 943)"
      ]
     },
     "execution_count": 102,
     "metadata": {},
     "output_type": "execute_result"
    }
   ],
   "source": [
    "np.shape(U_tilda)"
   ]
  },
  {
   "cell_type": "markdown",
   "metadata": {},
   "source": [
    "#### 2)"
   ]
  },
  {
   "cell_type": "markdown",
   "metadata": {},
   "source": [
    "Now, construct 2-D visualizations using $V_{tilda}$. First, note that in $V_{tilda}$, each row corresponds to a movie. Since in A, each of the 20 rows corresponds to a particular movie \"concept\", the two rows we're using correspond to the two most important concepts in classifying movies, and so each column in $V_{tilda}$ corresponds to each movies' score for a particular concept."
   ]
  },
  {
   "cell_type": "markdown",
   "metadata": {},
   "source": [
    "##### a)"
   ]
  },
  {
   "cell_type": "markdown",
   "metadata": {},
   "source": [
    "For the ten movies, we choose Star Wars (1977) (index 50), Stand by Me (1986) (index 655), Naked (1993) (index 960), Toy Story (1995) (index 1), It's a Wonderful Life (1946) (index 491), Pulp Fiction (1994) (index 56), \"Shawshank Redemption, The (1994)\" (index 64), Forrest Gump (1994) (index 69), Hercules (1997) (index 993), Titanic (1997) (index 313)"
   ]
  },
  {
   "cell_type": "markdown",
   "metadata": {},
   "source": [
    "For each one of these movies, pull out the corresponding values from the $V_{tilda}$ matrix"
   ]
  },
  {
   "cell_type": "code",
   "execution_count": 143,
   "metadata": {},
   "outputs": [
    {
     "data": {
      "image/png": "[encoded data removed]",
      "text/plain": [
       "<matplotlib.figure.Figure at 0x10c502240>"
      ]
     },
     "metadata": {},
     "output_type": "display_data"
    }
   ],
   "source": [
    "plt.plot([V_tilda[0][49]], [V_tilda[1][49]], 'o', markersize=10, label='Star Wars')\n",
    "plt.plot([V_tilda[0][81]], [V_tilda[1][81]], 'o', markersize=10, label='Jurassic Park')\n",
    "plt.plot([V_tilda[0][251]], [V_tilda[1][251]], 'o', markersize=10, \\\n",
    "         label='Jurassic Park Lost World')\n",
    "plt.plot([V_tilda[0][451]], [V_tilda[1][451]], 'o', markersize=10, label='Jaws II')\n",
    "plt.plot([V_tilda[0][402]], [V_tilda[1][402]], 'o', markersize=10, \\\n",
    "         label='Batman')\n",
    "plt.plot([V_tilda[0][55]], [V_tilda[1][55]], 'o', markersize=10, label='Pulp Fiction')\n",
    "plt.plot([V_tilda[0][63]], [V_tilda[1][63]], 'o', markersize=10, \\\n",
    "         label='Shawshank Redemption')\n",
    "plt.plot([V_tilda[0][448]], [V_tilda[1][448]], 'o', markersize=10, label='Star Trek \\\n",
    "The Motion Picture')\n",
    "plt.plot([V_tilda[0][233]], [V_tilda[1][233]], 'o', markersize=10, label='Jaws')\n",
    "plt.plot([V_tilda[0][230]], [V_tilda[1][230]], 'o', markersize=10, label='Batman Returns')\n",
    "\n",
    "plt.legend(loc=2, bbox_to_anchor=(1.05, 1))\n",
    "plt.show()"
   ]
  },
  {
   "cell_type": "markdown",
   "metadata": {},
   "source": [
    "##### b)"
   ]
  },
  {
   "cell_type": "code",
   "execution_count": null,
   "metadata": {
    "collapsed": true
   },
   "outputs": [],
   "source": []
  }
 ],
 "metadata": {
  "kernelspec": {
   "display_name": "Python 3",
   "language": "python",
   "name": "python3"
  },
  "language_info": {
   "codemirror_mode": {
    "name": "ipython",
    "version": 3
   },
   "file_extension": ".py",
   "mimetype": "text/x-python",
   "name": "python",
   "nbconvert_exporter": "python",
   "pygments_lexer": "ipython3",
   "version": "3.6.2"
  }
 },
 "nbformat": 4,
 "nbformat_minor": 2
}
