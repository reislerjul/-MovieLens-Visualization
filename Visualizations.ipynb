{
 "cells": [
  {
   "cell_type": "code",
   "execution_count": 4,
   "metadata": {
    "collapsed": true
   },
   "outputs": [],
   "source": [
    "import numpy as np\n",
    "import matplotlib.pyplot as plt"
   ]
  },
  {
   "cell_type": "markdown",
   "metadata": {},
   "source": [
    "### 4 Basic Visualizations"
   ]
  },
  {
   "cell_type": "markdown",
   "metadata": {},
   "source": [
    "Load in each data file:"
   ]
  },
  {
   "cell_type": "code",
   "execution_count": 38,
   "metadata": {},
   "outputs": [],
   "source": [
    "data = np.genfromtxt('data/data.txt',dtype='str')\n",
    "test = np.genfromtxt('data/test.txt',dtype='str')\n",
    "train = np.genfromtxt('data/train.txt',dtype='str')"
   ]
  },
  {
   "cell_type": "markdown",
   "metadata": {},
   "source": [
    "Load in the movies array. We'll have to process this data because its complicated to load in."
   ]
  },
  {
   "cell_type": "code",
   "execution_count": 39,
   "metadata": {},
   "outputs": [],
   "source": [
    "text = np.loadtxt('data/movies.txt', skiprows=0, delimiter='   ', dtype='str')\n",
    "movies = []\n",
    "for line in text:\n",
    "    movies.append(line.tolist().split('\\t'))\n",
    "movies = np.array(movies)"
   ]
  },
  {
   "cell_type": "markdown",
   "metadata": {},
   "source": [
    "#### 1"
   ]
  },
  {
   "cell_type": "markdown",
   "metadata": {},
   "source": [
    "Create a histogram of all the ratings in the dataset. First, put all the ratings into a list and then plot. "
   ]
  },
  {
   "cell_type": "code",
   "execution_count": 43,
   "metadata": {},
   "outputs": [
    {
     "data": {
      "image/png": "[encoded data removed]",
      "text/plain": [
       "<matplotlib.figure.Figure at 0x11f29fb38>"
      ]
     },
     "metadata": {},
     "output_type": "display_data"
    }
   ],
   "source": [
    "ratings = []\n",
    "for element in data:\n",
    "    ratings.append(int(element[2]))\n",
    "\n",
    "plt.hist(ratings, normed=True, histtype='stepfilled', alpha=0.2, label='ratings')\n",
    "plt.title('Ratings')\n",
    "plt.show()"
   ]
  },
  {
   "cell_type": "markdown",
   "metadata": {},
   "source": [
    "#### 2"
   ]
  },
  {
   "cell_type": "markdown",
   "metadata": {},
   "source": [
    "First, we will determine the 10 most popular movies. To do this, we will go through the data dataset and determine the number of ratings that each movie has received"
   ]
  },
  {
   "cell_type": "code",
   "execution_count": 44,
   "metadata": {
    "collapsed": true
   },
   "outputs": [],
   "source": [
    "totalRatings = {}\n",
    "for element in data:\n",
    "    if element[1] in totalRatings:\n",
    "        totalRatings[element[1]] += 1\n",
    "    else:\n",
    "        totalRatings[element[1]] = 1"
   ]
  },
  {
   "cell_type": "markdown",
   "metadata": {},
   "source": [
    "Now, convert the dictionary to a list and sort by the number of ratings:"
   ]
  },
  {
   "cell_type": "code",
   "execution_count": 57,
   "metadata": {},
   "outputs": [],
   "source": [
    "ratingList = []\n",
    "\n",
    "for item in totalRatings.items():\n",
    "    ratingList.append(item)\n",
    "    \n",
    "ratingList.sort(key=lambda x: x[1], reverse=True)"
   ]
  },
  {
   "cell_type": "markdown",
   "metadata": {},
   "source": [
    "Print out the 10 most popular movies:"
   ]
  },
  {
   "cell_type": "code",
   "execution_count": 60,
   "metadata": {},
   "outputs": [
    {
     "data": {
      "text/plain": [
       "[('50', 583),\n",
       " ('258', 509),\n",
       " ('100', 508),\n",
       " ('181', 507),\n",
       " ('294', 485),\n",
       " ('286', 481),\n",
       " ('288', 478),\n",
       " ('1', 452),\n",
       " ('300', 431),\n",
       " ('121', 429)]"
      ]
     },
     "execution_count": 60,
     "metadata": {},
     "output_type": "execute_result"
    }
   ],
   "source": [
    "ratingList[:10]"
   ]
  },
  {
   "cell_type": "markdown",
   "metadata": {},
   "source": [
    "Create a dictionary for the ten most popular movies, find all the ratings, and plot as a histogram:"
   ]
  },
  {
   "cell_type": "code",
   "execution_count": 64,
   "metadata": {},
   "outputs": [
    {
     "data": {
      "image/png": "[encoded data removed]",
      "text/plain": [
       "<matplotlib.figure.Figure at 0x10db322e8>"
      ]
     },
     "metadata": {},
     "output_type": "display_data"
    }
   ],
   "source": [
    "popular = {}\n",
    "for item in ratingList[:10]:\n",
    "    popular[item[0]] = True\n",
    "    \n",
    "popularRatings = []\n",
    "for element in data:\n",
    "    if element[1] in popular:\n",
    "        popularRatings.append(int(element[2]))\n",
    "\n",
    "plt.hist(popularRatings, normed=True, histtype='stepfilled', alpha=0.2, label='ratings')\n",
    "plt.title('Ratings of 10 Most Popular Movies')\n",
    "plt.show()"
   ]
  },
  {
   "cell_type": "markdown",
   "metadata": {},
   "source": [
    "#### 3"
   ]
  },
  {
   "cell_type": "markdown",
   "metadata": {},
   "source": [
    "Find the average ratings of each movie and sort a list by the best rated:"
   ]
  },
  {
   "cell_type": "code",
   "execution_count": 76,
   "metadata": {},
   "outputs": [],
   "source": [
    "avgRatings = {}\n",
    "for element in data:\n",
    "    if element[1] in avgRatings:\n",
    "        avgRatings[element[1]][0] += int(element[2])\n",
    "        avgRatings[element[1]][1] += 1\n",
    "    else:\n",
    "        avgRatings[element[1]] = [int(element[2]), 1]\n",
    "\n",
    "        \n",
    "avgRatingList = []\n",
    "\n",
    "for key, value in avgRatings.items():\n",
    "    avgRatingList.append((key, value[0] / float(value[1])))\n",
    "    \n",
    "avgRatingList.sort(key=lambda x: x[1], reverse=True)"
   ]
  },
  {
   "cell_type": "markdown",
   "metadata": {},
   "source": [
    "Print out the 10 best rated movies:"
   ]
  },
  {
   "cell_type": "code",
   "execution_count": 78,
   "metadata": {},
   "outputs": [
    {
     "data": {
      "text/plain": [
       "[('1189', 5.0),\n",
       " ('1500', 5.0),\n",
       " ('814', 5.0),\n",
       " ('1536', 5.0),\n",
       " ('1293', 5.0),\n",
       " ('1599', 5.0),\n",
       " ('1653', 5.0),\n",
       " ('1467', 5.0),\n",
       " ('1122', 5.0),\n",
       " ('1201', 5.0)]"
      ]
     },
     "execution_count": 78,
     "metadata": {},
     "output_type": "execute_result"
    }
   ],
   "source": [
    "avgRatingList[:10]"
   ]
  },
  {
   "cell_type": "markdown",
   "metadata": {},
   "source": [
    "Create a dictionary for the ten best rated movies, find all the ratings, and plot as a histogram:"
   ]
  },
  {
   "cell_type": "code",
   "execution_count": 79,
   "metadata": {},
   "outputs": [
    {
     "data": {
      "image/png": "[encoded data removed]",
      "text/plain": [
       "<matplotlib.figure.Figure at 0x10f10b550>"
      ]
     },
     "metadata": {},
     "output_type": "display_data"
    }
   ],
   "source": [
    "best = {}\n",
    "for item in avgRatingList[:10]:\n",
    "    best[item[0]] = True\n",
    "    \n",
    "bestRatings = []\n",
    "for element in data:\n",
    "    if element[1] in best:\n",
    "        bestRatings.append(int(element[2]))\n",
    "\n",
    "plt.hist(bestRatings, normed=True, histtype='stepfilled', alpha=0.2, label='ratings')\n",
    "plt.title('Ratings of 10 Best Rated Movies')\n",
    "plt.show()"
   ]
  },
  {
   "cell_type": "markdown",
   "metadata": {},
   "source": [
    "#### 4"
   ]
  },
  {
   "cell_type": "markdown",
   "metadata": {},
   "source": [
    "We choose to do the genres Comedy, Western, and Romance."
   ]
  },
  {
   "cell_type": "code",
   "execution_count": 80,
   "metadata": {},
   "outputs": [
    {
     "name": "stdout",
     "output_type": "stream",
     "text": [
      "['1' 'Toy Story (1995)' '0' '0' '0' '1' '1' '1' '0' '0' '0' '0' '0' '0' '0'\n",
      " '0' '0' '0' '0' '0' '0']\n"
     ]
    }
   ],
   "source": [
    "print(movies[0])"
   ]
  },
  {
   "cell_type": "markdown",
   "metadata": {},
   "source": [
    "Find all the movies that are comedy, western, and/or romance:"
   ]
  },
  {
   "cell_type": "code",
   "execution_count": 96,
   "metadata": {
    "collapsed": true
   },
   "outputs": [],
   "source": [
    "genres = {'Comedy':[], 'Western':[], 'Animation':[]}\n",
    "for movie in movies:\n",
    "    if movie[7] == '1':\n",
    "        genres['Comedy'].append(movie[0])\n",
    "    if movie[20] == '1':\n",
    "        genres['Western'].append(movie[0])\n",
    "    if movie[16] == '1':\n",
    "        genres['Animation'].append(movie[0])"
   ]
  },
  {
   "cell_type": "markdown",
   "metadata": {},
   "source": [
    "For the movies in each category, find all the ratings and plot a histogram:"
   ]
  },
  {
   "cell_type": "code",
   "execution_count": 97,
   "metadata": {},
   "outputs": [
    {
     "data": {
      "image/png": "[encoded data removed]",
      "text/plain": [
       "<matplotlib.figure.Figure at 0x111257fd0>"
      ]
     },
     "metadata": {},
     "output_type": "display_data"
    },
    {
     "data": {
      "image/png": "[encoded data removed]",
      "text/plain": [
       "<matplotlib.figure.Figure at 0x11101aba8>"
      ]
     },
     "metadata": {},
     "output_type": "display_data"
    },
    {
     "data": {
      "image/png": "[encoded data removed]",
      "text/plain": [
       "<matplotlib.figure.Figure at 0x10dc33080>"
      ]
     },
     "metadata": {},
     "output_type": "display_data"
    }
   ],
   "source": [
    "for genre in genres.keys():\n",
    "    genre_ratings = []\n",
    "    temp = genres[genre]\n",
    "    for element in data:\n",
    "        if element[1] in temp:\n",
    "            genre_ratings.append(int(element[2]))\n",
    "    title = genre + ' Ratings'\n",
    "    plt.hist(genre_ratings, normed=True, histtype='stepfilled', alpha=0.2, label='ratings')\n",
    "    plt.title(title)\n",
    "    plt.show()"
   ]
  },
  {
   "cell_type": "code",
   "execution_count": null,
   "metadata": {
    "collapsed": true
   },
   "outputs": [],
   "source": []
  }
 ],
 "metadata": {
  "kernelspec": {
   "display_name": "Python 3",
   "language": "python",
   "name": "python3"
  },
  "language_info": {
   "codemirror_mode": {
    "name": "ipython",
    "version": 3
   },
   "file_extension": ".py",
   "mimetype": "text/x-python",
   "name": "python",
   "nbconvert_exporter": "python",
   "pygments_lexer": "ipython3",
   "version": "3.6.2"
  }
 },
 "nbformat": 4,
 "nbformat_minor": 2
}
